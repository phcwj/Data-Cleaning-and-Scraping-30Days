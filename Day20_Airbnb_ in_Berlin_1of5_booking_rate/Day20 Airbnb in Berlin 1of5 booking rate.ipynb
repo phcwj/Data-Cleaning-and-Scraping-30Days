{
 "cells": [
  {
   "cell_type": "markdown",
   "metadata": {},
   "source": [
    "# Day20 Airbnb in Berlin 1/5 booking rate \n",
    "# 柏林Airbnb 1/5 訂房率\n",
    "\n",
    "今天從[Inside Airbnb](http://insideairbnb.com/get-the-data.html)下載的資料(calendar.csv)，針對德國柏林地區的Airbnb房源繁忙程度作分析。\n",
    "\n",
    "The data (calendar.csv) was collected from [Inside Airbnb](http://insideairbnb.com/get-the-data.html), the data was last updated on 11/07/2019.\n",
    "Today's article will briefly analysise the booking rate of Airbnb listings in Berlin.\n",
    "![Title](2001.JPG)\n",
    "\n",
    "### 載入常用套件並讀入我們要分析的資料\n",
    "### First, we need to import the packeges we need and read in the data we are about to analyse."
   ]
  },
  {
   "cell_type": "code",
   "execution_count": 1,
   "metadata": {},
   "outputs": [],
   "source": [
    "# 載入所需套件 import the packages we need\n",
    "import pandas as pd \n",
    "import numpy as np \n",
    "import matplotlib.pyplot as plt\n",
    "import plotly as py # 畫互動式圖表的開源套件 graphing library makes interactive graphs\n",
    "import warnings # 忽略警告 ignore warnings\n",
    "warnings.filterwarnings(\"ignore\")"
   ]
  },
  {
   "cell_type": "code",
   "execution_count": 2,
   "metadata": {},
   "outputs": [
    {
     "name": "stdout",
     "output_type": "stream",
     "text": [
      "There are 365 days and 24395 different listings in the calendar.\n",
      "Date from 2019-07-11 to 2020-07-09\n"
     ]
    },
    {
     "data": {
      "text/html": [
       "<div>\n",
       "<style scoped>\n",
       "    .dataframe tbody tr th:only-of-type {\n",
       "        vertical-align: middle;\n",
       "    }\n",
       "\n",
       "    .dataframe tbody tr th {\n",
       "        vertical-align: top;\n",
       "    }\n",
       "\n",
       "    .dataframe thead th {\n",
       "        text-align: right;\n",
       "    }\n",
       "</style>\n",
       "<table border=\"1\" class=\"dataframe\">\n",
       "  <thead>\n",
       "    <tr style=\"text-align: right;\">\n",
       "      <th></th>\n",
       "      <th>listing_id</th>\n",
       "      <th>date</th>\n",
       "      <th>available</th>\n",
       "      <th>price</th>\n",
       "      <th>adjusted_price</th>\n",
       "      <th>minimum_nights</th>\n",
       "      <th>maximum_nights</th>\n",
       "    </tr>\n",
       "  </thead>\n",
       "  <tbody>\n",
       "    <tr>\n",
       "      <td>0</td>\n",
       "      <td>1944</td>\n",
       "      <td>2019-07-11</td>\n",
       "      <td>f</td>\n",
       "      <td>$20.00</td>\n",
       "      <td>$20.00</td>\n",
       "      <td>120</td>\n",
       "      <td>120</td>\n",
       "    </tr>\n",
       "    <tr>\n",
       "      <td>1</td>\n",
       "      <td>159454</td>\n",
       "      <td>2019-07-11</td>\n",
       "      <td>f</td>\n",
       "      <td>$161.00</td>\n",
       "      <td>$161.00</td>\n",
       "      <td>2</td>\n",
       "      <td>730</td>\n",
       "    </tr>\n",
       "    <tr>\n",
       "      <td>2</td>\n",
       "      <td>159454</td>\n",
       "      <td>2019-07-12</td>\n",
       "      <td>f</td>\n",
       "      <td>$161.00</td>\n",
       "      <td>$161.00</td>\n",
       "      <td>2</td>\n",
       "      <td>730</td>\n",
       "    </tr>\n",
       "    <tr>\n",
       "      <td>3</td>\n",
       "      <td>159454</td>\n",
       "      <td>2019-07-13</td>\n",
       "      <td>f</td>\n",
       "      <td>$161.00</td>\n",
       "      <td>$161.00</td>\n",
       "      <td>2</td>\n",
       "      <td>730</td>\n",
       "    </tr>\n",
       "    <tr>\n",
       "      <td>4</td>\n",
       "      <td>159454</td>\n",
       "      <td>2019-07-14</td>\n",
       "      <td>f</td>\n",
       "      <td>$161.00</td>\n",
       "      <td>$161.00</td>\n",
       "      <td>2</td>\n",
       "      <td>730</td>\n",
       "    </tr>\n",
       "  </tbody>\n",
       "</table>\n",
       "</div>"
      ],
      "text/plain": [
       "   listing_id        date available    price adjusted_price  minimum_nights  \\\n",
       "0        1944  2019-07-11         f   $20.00         $20.00             120   \n",
       "1      159454  2019-07-11         f  $161.00        $161.00               2   \n",
       "2      159454  2019-07-12         f  $161.00        $161.00               2   \n",
       "3      159454  2019-07-13         f  $161.00        $161.00               2   \n",
       "4      159454  2019-07-14         f  $161.00        $161.00               2   \n",
       "\n",
       "   maximum_nights  \n",
       "0             120  \n",
       "1             730  \n",
       "2             730  \n",
       "3             730  \n",
       "4             730  "
      ]
     },
     "execution_count": 2,
     "metadata": {},
     "output_type": "execute_result"
    }
   ],
   "source": [
    "calendar = pd.read_csv('airbnb/calendar.csv') # 讀入要分析的檔案 read in the file we want to analyse\n",
    "print('There are',calendar.date.nunique(), 'days and', calendar.listing_id.nunique(),'different listings in the calendar.')\n",
    "print('Date from', calendar.date.min(), 'to', calendar.date.max()) # 看資料日期分布區間 chekc the time frame of our date\n",
    "calendar.head() # 印出資料前五筆 print out the top 5 rows of our data"
   ]
  },
  {
   "cell_type": "code",
   "execution_count": 3,
   "metadata": {},
   "outputs": [
    {
     "data": {
      "text/plain": [
       "(array([0, 1]), <a list of 2 Text xticklabel objects>)"
      ]
     },
     "execution_count": 3,
     "metadata": {},
     "output_type": "execute_result"
    },
    {
     "data": {
      "image/png": "[encoded data removed]",
      "text/plain": [
       "<Figure size 432x288 with 1 Axes>"
      ]
     },
     "metadata": {
      "needs_background": "light"
     },
     "output_type": "display_data"
    }
   ],
   "source": [
    "# 算資料中available欄位 f(未被預訂)與t(已被預訂)數量並畫圖，繪圖類型長條圖，並在圖上加上標題。\n",
    "# count the number of f(not reserved) and t(reserved) of the column 'available'\n",
    "calendar.available.value_counts().plot(kind='bar', title='Available ratio') \n",
    "plt.xticks(rotation=0) # x軸旋轉角度設定為0 set the rotation angle of x ticks to zero"
   ]
  },
  {
   "cell_type": "code",
   "execution_count": 4,
   "metadata": {},
   "outputs": [
    {
     "data": {
      "text/html": [
       "<div>\n",
       "<style scoped>\n",
       "    .dataframe tbody tr th:only-of-type {\n",
       "        vertical-align: middle;\n",
       "    }\n",
       "\n",
       "    .dataframe tbody tr th {\n",
       "        vertical-align: top;\n",
       "    }\n",
       "\n",
       "    .dataframe thead th {\n",
       "        text-align: right;\n",
       "    }\n",
       "</style>\n",
       "<table border=\"1\" class=\"dataframe\">\n",
       "  <thead>\n",
       "    <tr style=\"text-align: right;\">\n",
       "      <th></th>\n",
       "      <th>date</th>\n",
       "      <th>busy</th>\n",
       "    </tr>\n",
       "  </thead>\n",
       "  <tbody>\n",
       "    <tr>\n",
       "      <td>0</td>\n",
       "      <td>2019-07-11</td>\n",
       "      <td>0.945891</td>\n",
       "    </tr>\n",
       "    <tr>\n",
       "      <td>1</td>\n",
       "      <td>2019-07-12</td>\n",
       "      <td>0.916089</td>\n",
       "    </tr>\n",
       "    <tr>\n",
       "      <td>2</td>\n",
       "      <td>2019-07-13</td>\n",
       "      <td>0.903792</td>\n",
       "    </tr>\n",
       "    <tr>\n",
       "      <td>3</td>\n",
       "      <td>2019-07-14</td>\n",
       "      <td>0.877721</td>\n",
       "    </tr>\n",
       "    <tr>\n",
       "      <td>4</td>\n",
       "      <td>2019-07-15</td>\n",
       "      <td>0.879934</td>\n",
       "    </tr>\n",
       "  </tbody>\n",
       "</table>\n",
       "</div>"
      ],
      "text/plain": [
       "         date      busy\n",
       "0  2019-07-11  0.945891\n",
       "1  2019-07-12  0.916089\n",
       "2  2019-07-13  0.903792\n",
       "3  2019-07-14  0.877721\n",
       "4  2019-07-15  0.879934"
      ]
     },
     "execution_count": 4,
     "metadata": {},
     "output_type": "execute_result"
    }
   ],
   "source": [
    "new_calendar = calendar[['date', 'available']] # 只抓出日期與是否已被預訂新建為一個dataframe create a new data frame with only 'date' and 'available' column\n",
    "new_calendar['busy'] = new_calendar.available.map(lambda x:0 if x == 't' else 1) # 進行標籤編碼 label encoding\n",
    "new_calendar = new_calendar.groupby('date')['busy'].mean().reset_index() \n",
    "new_calendar.head() # 看一眼我們新建的dataframe have a look of our new dataframe"
   ]
  },
  {
   "cell_type": "markdown",
   "metadata": {},
   "source": [
    "## 轉換時間格式 Change the format of the date"
   ]
  },
  {
   "cell_type": "code",
   "execution_count": 5,
   "metadata": {},
   "outputs": [
    {
     "data": {
      "text/plain": [
       "Text(0, 0.5, '%Busy')"
      ]
     },
     "execution_count": 5,
     "metadata": {},
     "output_type": "execute_result"
    },
    {
     "data": {
      "image/png": "[encoded data removed]",
      "text/plain": [
       "<Figure size 720x360 with 1 Axes>"
      ]
     },
     "metadata": {
      "needs_background": "light"
     },
     "output_type": "display_data"
    }
   ],
   "source": [
    "new_calendar['date'] = pd.to_datetime(new_calendar['date']) # 轉換時間格式 change the format of the date\n",
    "\n",
    "plt.figure(figsize=(10, 5))\n",
    "plt.plot(new_calendar['date'], new_calendar['busy'])\n",
    "plt.title('Airbnb Berlin Calendar')\n",
    "plt.ylabel('%Busy')"
   ]
  },
  {
   "cell_type": "markdown",
   "metadata": {},
   "source": [
    "## 處理價格資料 Clean the price data"
   ]
  },
  {
   "cell_type": "code",
   "execution_count": 6,
   "metadata": {},
   "outputs": [
    {
     "data": {
      "text/plain": [
       "Text(0, 0.5, 'Month')"
      ]
     },
     "execution_count": 6,
     "metadata": {},
     "output_type": "execute_result"
    },
    {
     "data": {
      "image/png": "[encoded data removed]",
      "text/plain": [
       "<Figure size 864x504 with 1 Axes>"
      ]
     },
     "metadata": {
      "needs_background": "light"
     },
     "output_type": "display_data"
    }
   ],
   "source": [
    "# 處理價格資料 clean the price data\n",
    "calendar['date'] = pd.to_datetime(calendar['date'])\n",
    "calendar['price'] = calendar['price'].str.replace(',', '').str.replace('$', '').astype(float)\n",
    "\n",
    "mean_of_month = calendar.groupby(calendar['date'].dt.strftime('%B'), sort=False)['price'].mean()\n",
    "\n",
    "mean_of_month.plot(kind='barh', figsize=(12, 7))\n",
    "plt.xlabel('average monthly price')\n",
    "plt.ylabel('Month')"
   ]
  },
  {
   "cell_type": "code",
   "execution_count": 7,
   "metadata": {},
   "outputs": [
    {
     "data": {
      "text/plain": [
       "<matplotlib.axes._subplots.AxesSubplot at 0x1d6e0b74e10>"
      ]
     },
     "execution_count": 7,
     "metadata": {},
     "output_type": "execute_result"
    },
    {
     "data": {
      "image/png": "[encoded data removed]",
      "text/plain": [
       "<Figure size 432x288 with 1 Axes>"
      ]
     },
     "metadata": {
      "needs_background": "light"
     },
     "output_type": "display_data"
    }
   ],
   "source": [
    "calendar['dayofweek'] = calendar.date.dt.weekday_name\n",
    "cats = calendar.dayofweek.unique().tolist()\n",
    "price_week = calendar.groupby('dayofweek')['price'].mean().reindex(cats)\n",
    "price_week.plot(title='People seems to travel more on Fridays and Saturdays.')"
   ]
  },
  {
   "cell_type": "markdown",
   "metadata": {},
   "source": [
    "## 小結 Summary\n",
    "在我們分析的2019-07-11到2020-07-09區間，柏林地區Airbnb房源五月、二月價格較其他月份稍偏高，十月則最低。周五與週六訂房率較多。<br>\n",
    "From 2019-07-11 to 2020-07-09, the price of Airbnb in Berlin in February and May is slightly higher than other months yet the price in October is a little lower. There are more bookings on Fridays and Saturdays.\n",
    "\n",
    "文中若有錯誤還望不吝指正，感激不盡。\n",
    "Please let me know if there’s any mistake in this article. Thanks for reading.\n",
    "\n",
    "Reference 參考資料：\n",
    "\n",
    "[1] [Inside Airbnb](http://insideairbnb.com/get-the-data.html)\n",
    "\n",
    "[2] [利用Airbnb來更了解居住城市，以臺北為例 Python實作（上）](https://medium.com/finformation%E7%95%B6%E7%A8%8B%E5%BC%8F%E9%81%87%E4%B8%8A%E8%B2%A1%E5%8B%99%E9%87%91%E8%9E%8D/%E5%88%A9%E7%94%A8airbnb%E4%BE%86%E6%9B%B4%E4%BA%86%E8%A7%A3%E5%B1%85%E4%BD%8F%E5%9F%8E%E5%B8%82-%E4%BB%A5%E8%87%BA%E5%8C%97%E7%82%BA%E4%BE%8B-python%E5%AF%A6%E4%BD%9C-3f4903e8742)\n"
   ]
  }
 ],
 "metadata": {
  "kernelspec": {
   "display_name": "Python 3",
   "language": "python",
   "name": "python3"
  },
  "language_info": {
   "codemirror_mode": {
    "name": "ipython",
    "version": 3
   },
   "file_extension": ".py",
   "mimetype": "text/x-python",
   "name": "python",
   "nbconvert_exporter": "python",
   "pygments_lexer": "ipython3",
   "version": "3.7.3"
  }
 },
 "nbformat": 4,
 "nbformat_minor": 2
}
