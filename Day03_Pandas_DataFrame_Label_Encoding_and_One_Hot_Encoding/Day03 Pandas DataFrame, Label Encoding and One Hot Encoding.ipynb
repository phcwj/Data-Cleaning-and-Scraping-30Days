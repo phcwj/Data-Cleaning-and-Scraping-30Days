{
 "cells": [
  {
   "cell_type": "markdown",
   "metadata": {},
   "source": [
    "# Day03 基本資料類型、標籤編碼與獨熱編碼\n",
    "## Pandas DataFrame, Label Encoding and One Hot Encoding "
   ]
  },
  {
   "cell_type": "markdown",
   "metadata": {},
   "source": [
    "編寫程式碼時，載入已經存在的套件能幫我們節省下許多時間，又載入套件時，常有許多約定成俗的縮寫方式，需要稍微注意一下。不僅是為了簡短程式碼，也為了日後能順利閱讀討論串鋪墊。舉例來說，今天介紹的Pandas套件(取名自套件主要提供的三種資料結構：Panel、DataFrame 與 Series)，通常會載入後縮寫成pd方便使用。(初次使用記得先到命令提示字元輸入pip install pandas進行安裝。)\n",
    "\n",
    "接著使用套件中DataFrame()功能將字典的資料結構轉換為資料框架(對於Dictionary的資料結構補充[傳送門](https://ithelp.ithome.com.tw/articles/10185010)。)\n",
    "\n",
    "When coding, we import packages to save our time. At the same time we import them, we normally abbreviate the name so we can use it easier. For example, the package we are going to import is Pandas, and is often abbreviated as pd.(Make sure you type 'pip install pandas’ in cmd to install the package on the first time.)\n",
    "\n",
    "Then, we use the function DataFrame() to construct a dictionary into DataFrame. Check out [this link](https://www.w3schools.com/python/python_dictionaries.asp) to learn what dictionaries are."
   ]
  },
  {
   "cell_type": "code",
   "execution_count": 1,
   "metadata": {},
   "outputs": [
    {
     "data": {
      "text/html": [
       "<div>\n",
       "<style scoped>\n",
       "    .dataframe tbody tr th:only-of-type {\n",
       "        vertical-align: middle;\n",
       "    }\n",
       "\n",
       "    .dataframe tbody tr th {\n",
       "        vertical-align: top;\n",
       "    }\n",
       "\n",
       "    .dataframe thead th {\n",
       "        text-align: right;\n",
       "    }\n",
       "</style>\n",
       "<table border=\"1\" class=\"dataframe\">\n",
       "  <thead>\n",
       "    <tr style=\"text-align: right;\">\n",
       "      <th></th>\n",
       "      <th>col1</th>\n",
       "      <th>col2</th>\n",
       "    </tr>\n",
       "  </thead>\n",
       "  <tbody>\n",
       "    <tr>\n",
       "      <td>0</td>\n",
       "      <td>1</td>\n",
       "      <td>3</td>\n",
       "    </tr>\n",
       "    <tr>\n",
       "      <td>1</td>\n",
       "      <td>2</td>\n",
       "      <td>4</td>\n",
       "    </tr>\n",
       "  </tbody>\n",
       "</table>\n",
       "</div>"
      ],
      "text/plain": [
       "   col1  col2\n",
       "0     1     3\n",
       "1     2     4"
      ]
     },
     "execution_count": 1,
     "metadata": {},
     "output_type": "execute_result"
    }
   ],
   "source": [
    "import pandas as pd # 載入套件並縮寫 import package and abbreviate the name\n",
    "d = {'col1': [1, 2], 'col2': [3, 4]} # 先建立一個字典 create a dictionary\n",
    "df = pd.DataFrame(data=d) # 運用函數將字典轉換為資料框架 constructing a dictionary into data frame\n",
    "df # 呼叫轉換完成的資料框架 call the transformed dataframe"
   ]
  },
  {
   "cell_type": "markdown",
   "metadata": {},
   "source": [
    "在Pandas DataFrame中，常見的欄位變數資料類型有三種：\n",
    "1. float64 - 浮點數，可用來表示離散或連續變數。\n",
    "2. int64 - 整數，可用來表示離散或連續變數。\n",
    "3. object - 包含字串，用來表示類別型變數。\n",
    "\n",
    "There are three main data types of data:\n",
    "1. float64 - float, could be used for both discrete and continuous variables.\n",
    "2. int64 - integer, could be used for both discrete and continuous variables.\n",
    "3. object - strings included, used to for categorical data.\n",
    "\n",
    "## 變數說明：\n",
    "1. 離散變數：只能用整數單位計算的變數(ex: 房子的房間數量、人數、國家等)\n",
    "2. 連續變數：在一定區間內能任意取值的變數(ex: 身高、起飛到降落所花費的時間、車速等)\n",
    "3. 字串或類別\n",
    "4. 還有許多日期、布林值等格式，可待實務遇到再搜尋如何處理\n",
    "\n",
    "Different types of Variables:\n",
    "1. Discrete Variable: a variable whose value is obtained by counting(ex: rooms of a house).\n",
    "2. ContinuousVariable: a variable whose value is obtained by measuring(ex: heights, speed).\n",
    "3. String or Object\n",
    "4. Others: Date, Boolean etc."
   ]
  },
  {
   "cell_type": "markdown",
   "metadata": {},
   "source": [
    "# 編碼 Encoding\n",
    "\n",
    "資料是字串或類別型要做進一步的分析時(如訓練模型)，一般需要先轉換為數值資料類型，較常見的轉換方式有兩種：\n",
    "1. 標籤編碼：把每個類別轉換到某個整數，不會增加新欄位，使用時機通常是該資料中不同類別是有序的，例如以年齡分組，類別有小孩、年輕人、老人，使用標籤編碼表示為0, 1, 2是合理的，因為年齡上老人 > 年輕人、年輕人 > 小孩。\n",
    "2. 獨熱編碼：為每個類別新增一個欄位，用 0/1 表示是否。使用時機通常是該資料中不同類別是無序的，例如國家、地區等。較花費儲存空間。\n",
    "\n",
    "If the original data contains string or object, we will need to convert them into numerical data type. There are two main way to achieve it:\n",
    "1. Label encoding - Transform categories into integers, no new column created. Normally used when there is an order between different types(ex: using 0, 1, 2 to represent Old men, Young men, Kids make sense because there’s an order of the age range).\n",
    "2. One Hot encoding - Add columns for every single category, use 0/1 to show if the data belongs to certain category. Normally used when there are no order between data(ex: country, region). More storage space needed due to the added columns.\n",
    "\n",
    "Numpy支援大量的陣列與矩陣運算，並提供大量的數學函式庫。\n",
    "Numpy contains many mathematical functions for matrix operations.\n"
   ]
  },
  {
   "cell_type": "code",
   "execution_count": 2,
   "metadata": {},
   "outputs": [
    {
     "data": {
      "text/html": [
       "<div>\n",
       "<style scoped>\n",
       "    .dataframe tbody tr th:only-of-type {\n",
       "        vertical-align: middle;\n",
       "    }\n",
       "\n",
       "    .dataframe tbody tr th {\n",
       "        vertical-align: top;\n",
       "    }\n",
       "\n",
       "    .dataframe thead th {\n",
       "        text-align: right;\n",
       "    }\n",
       "</style>\n",
       "<table border=\"1\" class=\"dataframe\">\n",
       "  <thead>\n",
       "    <tr style=\"text-align: right;\">\n",
       "      <th></th>\n",
       "      <th>People</th>\n",
       "      <th>Age</th>\n",
       "      <th>Height</th>\n",
       "    </tr>\n",
       "  </thead>\n",
       "  <tbody>\n",
       "    <tr>\n",
       "      <td>0</td>\n",
       "      <td>kid</td>\n",
       "      <td>5</td>\n",
       "      <td>100</td>\n",
       "    </tr>\n",
       "    <tr>\n",
       "      <td>1</td>\n",
       "      <td>elder</td>\n",
       "      <td>67</td>\n",
       "      <td>158</td>\n",
       "    </tr>\n",
       "    <tr>\n",
       "      <td>2</td>\n",
       "      <td>youth</td>\n",
       "      <td>25</td>\n",
       "      <td>160</td>\n",
       "    </tr>\n",
       "    <tr>\n",
       "      <td>3</td>\n",
       "      <td>youth</td>\n",
       "      <td>29</td>\n",
       "      <td>175</td>\n",
       "    </tr>\n",
       "    <tr>\n",
       "      <td>4</td>\n",
       "      <td>kid</td>\n",
       "      <td>7</td>\n",
       "      <td>120</td>\n",
       "    </tr>\n",
       "    <tr>\n",
       "      <td>5</td>\n",
       "      <td>elder</td>\n",
       "      <td>76</td>\n",
       "      <td>168</td>\n",
       "    </tr>\n",
       "  </tbody>\n",
       "</table>\n",
       "</div>"
      ],
      "text/plain": [
       "  People  Age  Height\n",
       "0    kid    5     100\n",
       "1  elder   67     158\n",
       "2  youth   25     160\n",
       "3  youth   29     175\n",
       "4    kid    7     120\n",
       "5  elder   76     168"
      ]
     },
     "execution_count": 2,
     "metadata": {},
     "output_type": "execute_result"
    }
   ],
   "source": [
    "# 載入套件 import packages\n",
    "import numpy as np \n",
    "import pandas as pd\n",
    "\n",
    "ppl = ['kid', 'elder', 'youth', 'youth', 'kid', 'elder'] \n",
    "age = [5, 67, 25, 29, 7, 76]\n",
    "height = [100, 158, 160, 175, 120, 168]\n",
    "dic = {'People':ppl, 'Age':age, 'Height':height} # 建立一個字典把剛剛的資料存進去 save the data into a dictionary\n",
    "\n",
    "data = pd.DataFrame(dic) # 把剛剛建立的字典轉換為資料框架 change the dictionary into DataFrame\n",
    "data"
   ]
  },
  {
   "cell_type": "markdown",
   "metadata": {},
   "source": [
    "## 標籤編碼 Label Encoding"
   ]
  },
  {
   "cell_type": "code",
   "execution_count": 3,
   "metadata": {
    "scrolled": true
   },
   "outputs": [
    {
     "data": {
      "text/html": [
       "<div>\n",
       "<style scoped>\n",
       "    .dataframe tbody tr th:only-of-type {\n",
       "        vertical-align: middle;\n",
       "    }\n",
       "\n",
       "    .dataframe tbody tr th {\n",
       "        vertical-align: top;\n",
       "    }\n",
       "\n",
       "    .dataframe thead th {\n",
       "        text-align: right;\n",
       "    }\n",
       "</style>\n",
       "<table border=\"1\" class=\"dataframe\">\n",
       "  <thead>\n",
       "    <tr style=\"text-align: right;\">\n",
       "      <th></th>\n",
       "      <th>People</th>\n",
       "      <th>Age</th>\n",
       "      <th>Height</th>\n",
       "    </tr>\n",
       "  </thead>\n",
       "  <tbody>\n",
       "    <tr>\n",
       "      <td>0</td>\n",
       "      <td>1</td>\n",
       "      <td>5</td>\n",
       "      <td>100</td>\n",
       "    </tr>\n",
       "    <tr>\n",
       "      <td>1</td>\n",
       "      <td>0</td>\n",
       "      <td>67</td>\n",
       "      <td>158</td>\n",
       "    </tr>\n",
       "    <tr>\n",
       "      <td>2</td>\n",
       "      <td>2</td>\n",
       "      <td>25</td>\n",
       "      <td>160</td>\n",
       "    </tr>\n",
       "    <tr>\n",
       "      <td>3</td>\n",
       "      <td>2</td>\n",
       "      <td>29</td>\n",
       "      <td>175</td>\n",
       "    </tr>\n",
       "    <tr>\n",
       "      <td>4</td>\n",
       "      <td>1</td>\n",
       "      <td>7</td>\n",
       "      <td>120</td>\n",
       "    </tr>\n",
       "    <tr>\n",
       "      <td>5</td>\n",
       "      <td>0</td>\n",
       "      <td>76</td>\n",
       "      <td>168</td>\n",
       "    </tr>\n",
       "  </tbody>\n",
       "</table>\n",
       "</div>"
      ],
      "text/plain": [
       "   People  Age  Height\n",
       "0       1    5     100\n",
       "1       0   67     158\n",
       "2       2   25     160\n",
       "3       2   29     175\n",
       "4       1    7     120\n",
       "5       0   76     168"
      ]
     },
     "execution_count": 3,
     "metadata": {},
     "output_type": "execute_result"
    }
   ],
   "source": [
    "from sklearn.preprocessing import LabelEncoder # 載入標籤編碼功能 import labelencoder\n",
    "labelencoder = LabelEncoder() \n",
    "data_le = pd.DataFrame(dic) #不要弄亂剛剛的DataFrame，建一個新的來編碼 create a new dataframe for labelencoding\n",
    "data_le['People'] = labelencoder.fit_transform(data_le['People']) # 以邊謙編碼完的資料取代原欄位 replace the column with encoded data\n",
    "data_le"
   ]
  },
  {
   "cell_type": "markdown",
   "metadata": {},
   "source": [
    "## 獨熱編碼 One-Hot Encoding\n",
    "使用Pandas中get_dummies()函數可以輕易將DataFrame進行獨熱編碼。\n",
    "\n",
    "Using the get_dummies() function in Pandas to easily One-Hot encode DataFrame."
   ]
  },
  {
   "cell_type": "code",
   "execution_count": 4,
   "metadata": {},
   "outputs": [
    {
     "data": {
      "text/html": [
       "<div>\n",
       "<style scoped>\n",
       "    .dataframe tbody tr th:only-of-type {\n",
       "        vertical-align: middle;\n",
       "    }\n",
       "\n",
       "    .dataframe tbody tr th {\n",
       "        vertical-align: top;\n",
       "    }\n",
       "\n",
       "    .dataframe thead th {\n",
       "        text-align: right;\n",
       "    }\n",
       "</style>\n",
       "<table border=\"1\" class=\"dataframe\">\n",
       "  <thead>\n",
       "    <tr style=\"text-align: right;\">\n",
       "      <th></th>\n",
       "      <th>Age</th>\n",
       "      <th>Height</th>\n",
       "      <th>People_elder</th>\n",
       "      <th>People_kid</th>\n",
       "      <th>People_youth</th>\n",
       "    </tr>\n",
       "  </thead>\n",
       "  <tbody>\n",
       "    <tr>\n",
       "      <td>0</td>\n",
       "      <td>5</td>\n",
       "      <td>100</td>\n",
       "      <td>0</td>\n",
       "      <td>1</td>\n",
       "      <td>0</td>\n",
       "    </tr>\n",
       "    <tr>\n",
       "      <td>1</td>\n",
       "      <td>67</td>\n",
       "      <td>158</td>\n",
       "      <td>1</td>\n",
       "      <td>0</td>\n",
       "      <td>0</td>\n",
       "    </tr>\n",
       "    <tr>\n",
       "      <td>2</td>\n",
       "      <td>25</td>\n",
       "      <td>160</td>\n",
       "      <td>0</td>\n",
       "      <td>0</td>\n",
       "      <td>1</td>\n",
       "    </tr>\n",
       "    <tr>\n",
       "      <td>3</td>\n",
       "      <td>29</td>\n",
       "      <td>175</td>\n",
       "      <td>0</td>\n",
       "      <td>0</td>\n",
       "      <td>1</td>\n",
       "    </tr>\n",
       "    <tr>\n",
       "      <td>4</td>\n",
       "      <td>7</td>\n",
       "      <td>120</td>\n",
       "      <td>0</td>\n",
       "      <td>1</td>\n",
       "      <td>0</td>\n",
       "    </tr>\n",
       "    <tr>\n",
       "      <td>5</td>\n",
       "      <td>76</td>\n",
       "      <td>168</td>\n",
       "      <td>1</td>\n",
       "      <td>0</td>\n",
       "      <td>0</td>\n",
       "    </tr>\n",
       "  </tbody>\n",
       "</table>\n",
       "</div>"
      ],
      "text/plain": [
       "   Age  Height  People_elder  People_kid  People_youth\n",
       "0    5     100             0           1             0\n",
       "1   67     158             1           0             0\n",
       "2   25     160             0           0             1\n",
       "3   29     175             0           0             1\n",
       "4    7     120             0           1             0\n",
       "5   76     168             1           0             0"
      ]
     },
     "execution_count": 4,
     "metadata": {},
     "output_type": "execute_result"
    }
   ],
   "source": [
    "data_dum = pd.get_dummies(data)\n",
    "pd.DataFrame(data_dum)"
   ]
  },
  {
   "cell_type": "markdown",
   "metadata": {},
   "source": [
    "文中若有錯誤還望不吝指正，感激不盡。\n",
    "Please let me know if there’s any mistake in this article. Thanks for reading.\n",
    "\n",
    "Reference 參考資料：\n",
    "\n",
    "[1] 第二屆機器學習百日馬拉松內容\n",
    "\n",
    "[2] [Engeneering Statistic Handbook](https://www.itl.nist.gov/div898/handbook/eda/eda.htm)\n",
    "\n",
    "[3] [機器學習中的Label Encoder和One Hot Encoder](https://kknews.cc/code/kba3lvv.html)\n",
    "\n",
    "[4] [選擇正確的編碼方法—Label vs OneHot Encoder](https://kknews.cc/code/bjgqzpm.html)\n",
    "\n",
    "[5] [常用屬性或方法（3）Data Frame](https://ithelp.ithome.com.tw/articles/10185922)\n",
    "\n",
    "[6] [Discrete and Continuous Random Variables](http://www.henry.k12.ga.us/ugh/apstat/chapternotes/7supplement.html)\n",
    "\n",
    "[7] [初學Python手記#3-資料前處理](https://medium.com/@PatHuang/%E5%88%9D%E5%AD%B8python%E6%89%8B%E8%A8%98-3-%E8%B3%87%E6%96%99%E5%89%8D%E8%99%95%E7%90%86-label-encoding-one-hot-encoding-85c983d63f87)\n"
   ]
  }
 ],
 "metadata": {
  "kernelspec": {
   "display_name": "Python 3",
   "language": "python",
   "name": "python3"
  },
  "language_info": {
   "codemirror_mode": {
    "name": "ipython",
    "version": 3
   },
   "file_extension": ".py",
   "mimetype": "text/x-python",
   "name": "python",
   "nbconvert_exporter": "python",
   "pygments_lexer": "ipython3",
   "version": "3.7.3"
  }
 },
 "nbformat": 4,
 "nbformat_minor": 2
}
