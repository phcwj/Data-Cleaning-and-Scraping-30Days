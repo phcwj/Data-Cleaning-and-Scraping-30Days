{
 "cells": [
  {
   "cell_type": "markdown",
   "metadata": {},
   "source": [
    "# Day25 Beautiful Soup Try Out: Stepstone Posting\n",
    "# 美味的湯爬蟲初體驗：達石職缺\n",
    "初次嘗試使用美味的湯爬資料，先做小一點的試試水。今天是從德國求職網站[達石](https://www.stepstone.com)來下載職缺列表，先試看看不翻頁只爬第一頁100筆職缺訊息。<br>\n",
    "Today is my first try on BeautifulSoup, so the goal is to scrape 100 job posting on one page from [Stepstone](https://www.stepstone.com). This code doesn't contain page looping.<br>\n",
    "![Title](2501.JPG)"
   ]
  },
  {
   "cell_type": "code",
   "execution_count": 1,
   "metadata": {},
   "outputs": [],
   "source": [
    "import requests\n",
    "from bs4 import BeautifulSoup"
   ]
  },
  {
   "cell_type": "code",
   "execution_count": 2,
   "metadata": {},
   "outputs": [
    {
     "data": {
      "text/plain": [
       "200"
      ]
     },
     "execution_count": 2,
     "metadata": {},
     "output_type": "execute_result"
    }
   ],
   "source": [
    "# 指定網址 specify the url\n",
    "url = \"https://www.stepstone.de/5/job-search-simple.html?stf=freeText&ns=1&companyid=0&sourceofthesearchfield=resultlistpage%3Ageneral&qs=%5B%5D&ke=Junior%20Data%20Scientist&ws=Berlin&ra=10&suid=b830ebdc-e1ed-43cf-931b-006b0ad341c5&li=100&of=0&action=per_page_changed\"\n",
    "resp = requests.get(url)\n",
    "\n",
    "resp.encoding = 'utf-8' # 轉換編碼至UTF-8 transform encoding to UTF-8\n",
    "\n",
    "# 顯示網頁狀態，200即為正常 show the page status, code 200 means the page works just fine \n",
    "resp.status_code "
   ]
  },
  {
   "cell_type": "code",
   "execution_count": 3,
   "metadata": {},
   "outputs": [],
   "source": [
    "# 創建一個BeautifulSoup物件 create a BeautifulSoup object\n",
    "soup = BeautifulSoup(resp.content, 'html.parser')"
   ]
  },
  {
   "cell_type": "markdown",
   "metadata": {},
   "source": [
    "### 從網頁上用檢查看起來是以article來分別每一筆職缺訊息的，印出第一筆來看看長怎樣\n",
    "After cheking the code, we found that it seems like Stepstone saves each job posting using article. Print out the first one to have a look.<br>\n",
    "![Title](2503.JPG)"
   ]
  },
  {
   "cell_type": "code",
   "execution_count": 4,
   "metadata": {},
   "outputs": [
    {
     "name": "stdout",
     "output_type": "stream",
     "text": [
      "<article class=\"styled__JobItemWrapper-sc-11l5pt9-0 eWDSaU\" id=\"job-item-6008235\"><div class=\"styled__LogoContainer-ku4vl0-1 gdRgZP\"><a class=\"styled__LogoLink-ku4vl0-2 kxJbMr\" href=\"/cmp/en/Fresenius-Medical-Care-Deutschland-GmbH-59398/work.html\"><div class=\"lazyload-placeholder\"></div></a></div><div class=\"styled__JobItemContentWrapper-sc-11l5pt9-1 eurEAB\"><div class=\"styled__JobItemFirstLineWrapper-sc-11l5pt9-2 dwJxVv\"><a class=\"styled__TitleLink-sc-7z1cau-0 ciAyTi\" href=\"/jobs--Junior-Data-Scientist-m-w-d-Medical-Devices-Berlin-Fresenius-Medical-Care-Deutschland-GmbH--6008235-inline.html?suid=b830ebdc-e1ed-43cf-931b-006b0ad341c5&amp;rltr=1_1_100_dynrl_m_0_0_0\" target=\"_blank\"><h2 class=\"styled__TitleWrapper-sc-7z1cau-1 dPEGKL\">Junior Data Scientist (m/w/d) Medical Devices</h2></a><span class=\"styled__SaveListingIcon-sc-19q77fm-0 jZESBb sc-cQFLBn dDWfXA\" data-offerid=\"6008235\"><svg data-container-transform=\"translate(0 0)\" data-icon=\"heart-empty\" height=\"21px\" viewbox=\"0 0 23 20.79\" width=\"21px\"><path d=\"M11.78,1.94a6.57,6.57,0,1,1,9.29,9.28L11.5,20.79l-.71-.71L1.93,11.22a6.57,6.57,0,1,1,9.29-9.28,2.68,2.68,0,0,1,.28.3A2.68,2.68,0,0,1,11.78,1.94Zm7.87,7.87a4.57,4.57,0,1,0-6.46-6.46,2.66,2.66,0,0,0-.31.39,4,4,0,0,0-.43.87L11.5,7.34l-.95-2.73a4,4,0,0,0-.43-.87,2.66,2.66,0,0,0-.31-.39A4.57,4.57,0,1,0,3.35,9.81L11.5,18Z\"></path></svg></span></div><div class=\"styled__CompanyName-iq4jvn-0 gakwWs\">Fresenius Medical Care Deutschland GmbH</div><ul class=\"styled__IconsList-sc-1k0l2ot-0 hXTFwS\"><li class=\"styled__IconElement-sc-1k0l2ot-1 jUROsL\"><span aria-hidden=\"true\" class=\"iconic iconic-calendar\"></span><time class=\"\">4 days ago</time></li><li class=\"job-element__body__location styled__IconElement-sc-1k0l2ot-1 jUROsL\"><span aria-hidden=\"true\" class=\"iconic iconic-map-marker\"></span>Berlin</li></ul><div aria-expanded=\"true\" class=\"styled__TextSnippetContainer-sc-1xzea7b-0 jjOmNH\" data-offer-meta-text-snippet=\"\"><a class=\"styled__TextSnippetLink-sc-1xzea7b-1 styled__OneLineTextSnippetLink-sc-1xzea7b-2 bIjIzo\" data-offer-meta-text-snippet-link=\"true\" href=\"/jobs--Junior-Data-Scientist-m-w-d-Medical-Devices-Berlin-Fresenius-Medical-Care-Deutschland-GmbH--6008235-inline.html?suid=b830ebdc-e1ed-43cf-931b-006b0ad341c5&amp;rltr=1_1_100_dynrl_m_0_0_0\"><span>Unser Bewerbungsprozess läuft standardisiert in vier Stufen ab: (1) Onlinetest, (2) Telefoninterview, (3) <strong>Data</strong>-Challenge, (4) Persönliches Kennenlernen.</span></a></div></div></article>\n"
     ]
    }
   ],
   "source": [
    "listing = soup.find_all('article')\n",
    "print(listing[0])"
   ]
  },
  {
   "cell_type": "markdown",
   "metadata": {},
   "source": [
    "### 把每個職缺名稱存成清單。\n",
    "Use .find_all() to save the job position into list. "
   ]
  },
  {
   "cell_type": "code",
   "execution_count": 5,
   "metadata": {},
   "outputs": [
    {
     "name": "stdout",
     "output_type": "stream",
     "text": [
      "['Junior Data Scientist (m/w/d) Medical Devices', '(Junior) Data Scientist (m/w/d)', 'Physiker/ Mathematiker/ Naturwissenschaftler als Data Warehouse/ ETL-Developer (m/w/d)']\n"
     ]
    }
   ],
   "source": [
    "job_list = soup.find_all('h2', attrs={'class': 'styled__TitleWrapper-sc-7z1cau-1 dPEGKL'})\n",
    "jobs = []\n",
    "for j in job_list:\n",
    "    job = j.text.strip()\n",
    "    jobs.append(job)\n",
    "print(jobs[0:3])"
   ]
  },
  {
   "cell_type": "markdown",
   "metadata": {},
   "source": [
    "### 把每個職缺的公司存成清單。\n",
    "Use .find_all() to save the company name into list. "
   ]
  },
  {
   "cell_type": "code",
   "execution_count": 6,
   "metadata": {},
   "outputs": [
    {
     "name": "stdout",
     "output_type": "stream",
     "text": [
      "['Fresenius Medical Care Deutschland GmbH', '4flow', 'Senacor Technologies AG']\n"
     ]
    }
   ],
   "source": [
    "company_list = soup.find_all('div', attrs={'class': 'styled__CompanyName-iq4jvn-0 gakwWs'})\n",
    "company = []\n",
    "for c in company_list:\n",
    "    comp = c.text.strip()\n",
    "    company.append(comp)\n",
    "print(company[0:3])"
   ]
  },
  {
   "cell_type": "markdown",
   "metadata": {},
   "source": [
    "### 把每個職缺的位置存成清單。\n",
    "Use .find_all() to save the location into list. "
   ]
  },
  {
   "cell_type": "code",
   "execution_count": 7,
   "metadata": {},
   "outputs": [
    {
     "name": "stdout",
     "output_type": "stream",
     "text": [
      "['Berlin', 'Berlin', 'Berlin, Bonn, Frankfurt, Hamburg, Leipzig, München, Nürnberg, Stuttgart oder Wien']\n"
     ]
    }
   ],
   "source": [
    "location_list = soup.find_all('li', attrs={'class': 'job-element__body__location styled__IconElement-sc-1k0l2ot-1 jUROsL'})\n",
    "location = []\n",
    "for l in location_list:\n",
    "    locat = l.text.strip()\n",
    "    location.append(locat)\n",
    "print(location[0:3])"
   ]
  },
  {
   "cell_type": "markdown",
   "metadata": {},
   "source": [
    "### 把每個職缺的簡述存成清單。\n",
    "Use .find_all() to save the short discriptions into list. "
   ]
  },
  {
   "cell_type": "code",
   "execution_count": 8,
   "metadata": {},
   "outputs": [
    {
     "name": "stdout",
     "output_type": "stream",
     "text": [
      "['Unser Bewerbungsprozess läuft standardisiert in vier Stufen ab: (1) Onlinetest, (2) Telefoninterview, (3) Data-Challenge, (4) Persönliches Kennenlernen.', '4flow * Berlin * Feste Anstellung * Vollzeit - Über uns - 4flow – das sind über 600 Teammitglieder an 15 Standorten weltweit.', 'Du modellierst Datenbanken basierend auf unterschiedlichen Paradigmen (3NF, Data Vault, Star, etc.)']\n"
     ]
    },
    {
     "data": {
      "text/plain": [
       "100"
      ]
     },
     "execution_count": 8,
     "metadata": {},
     "output_type": "execute_result"
    }
   ],
   "source": [
    "a = soup.find_all('a', attrs={'class': 'styled__TextSnippetLink-sc-1xzea7b-1 styled__OneLineTextSnippetLink-sc-1xzea7b-2 bIjIzo'})\n",
    "description = []\n",
    "for i in a:\n",
    "    des = i.find('span').text.strip()\n",
    "    description.append(des)\n",
    "print(description[0:3])\n",
    "len(description) # 確認筆數沒有錯 check if the post amount is correct"
   ]
  },
  {
   "cell_type": "markdown",
   "metadata": {},
   "source": [
    "### 把上面的清單存成字典，轉成資料框架，再存成csv檔。\n",
    "Transform the lists we created above into dictionaries then into dataframe. After that, save as csv file."
   ]
  },
  {
   "cell_type": "code",
   "execution_count": 9,
   "metadata": {},
   "outputs": [
    {
     "data": {
      "text/html": [
       "<div>\n",
       "<style scoped>\n",
       "    .dataframe tbody tr th:only-of-type {\n",
       "        vertical-align: middle;\n",
       "    }\n",
       "\n",
       "    .dataframe tbody tr th {\n",
       "        vertical-align: top;\n",
       "    }\n",
       "\n",
       "    .dataframe thead th {\n",
       "        text-align: right;\n",
       "    }\n",
       "</style>\n",
       "<table border=\"1\" class=\"dataframe\">\n",
       "  <thead>\n",
       "    <tr style=\"text-align: right;\">\n",
       "      <th></th>\n",
       "      <th>Jobs</th>\n",
       "      <th>Company</th>\n",
       "      <th>Location</th>\n",
       "      <th>Description</th>\n",
       "    </tr>\n",
       "  </thead>\n",
       "  <tbody>\n",
       "    <tr>\n",
       "      <td>0</td>\n",
       "      <td>Junior Data Scientist (m/w/d) Medical Devices</td>\n",
       "      <td>Fresenius Medical Care Deutschland GmbH</td>\n",
       "      <td>Berlin</td>\n",
       "      <td>Unser Bewerbungsprozess läuft standardisiert i...</td>\n",
       "    </tr>\n",
       "    <tr>\n",
       "      <td>1</td>\n",
       "      <td>(Junior) Data Scientist (m/w/d)</td>\n",
       "      <td>4flow</td>\n",
       "      <td>Berlin</td>\n",
       "      <td>4flow * Berlin * Feste Anstellung * Vollzeit -...</td>\n",
       "    </tr>\n",
       "    <tr>\n",
       "      <td>2</td>\n",
       "      <td>Physiker/ Mathematiker/ Naturwissenschaftler a...</td>\n",
       "      <td>Senacor Technologies AG</td>\n",
       "      <td>Berlin, Bonn, Frankfurt, Hamburg, Leipzig, Mün...</td>\n",
       "      <td>Du modellierst Datenbanken basierend auf unter...</td>\n",
       "    </tr>\n",
       "    <tr>\n",
       "      <td>3</td>\n",
       "      <td>Data Warehouse/ ETL-Developer (m/w/d)</td>\n",
       "      <td>Senacor Technologies AG</td>\n",
       "      <td>Berlin, Bonn, Frankfurt, Hamburg, Leipzig, Mün...</td>\n",
       "      <td>Modellierung von technischen Datenbankmodellen...</td>\n",
       "    </tr>\n",
       "    <tr>\n",
       "      <td>4</td>\n",
       "      <td>Junior Berater Prozess- und Datenintegration (...</td>\n",
       "      <td>itelligence AG</td>\n",
       "      <td>Berlin, Bielefeld, Dortmund, Göttingen, Heidel...</td>\n",
       "      <td>Als Teil der NTT DATA Gruppe sind wir auf wert...</td>\n",
       "    </tr>\n",
       "  </tbody>\n",
       "</table>\n",
       "</div>"
      ],
      "text/plain": [
       "                                                Jobs  \\\n",
       "0      Junior Data Scientist (m/w/d) Medical Devices   \n",
       "1                    (Junior) Data Scientist (m/w/d)   \n",
       "2  Physiker/ Mathematiker/ Naturwissenschaftler a...   \n",
       "3              Data Warehouse/ ETL-Developer (m/w/d)   \n",
       "4  Junior Berater Prozess- und Datenintegration (...   \n",
       "\n",
       "                                   Company  \\\n",
       "0  Fresenius Medical Care Deutschland GmbH   \n",
       "1                                    4flow   \n",
       "2                  Senacor Technologies AG   \n",
       "3                  Senacor Technologies AG   \n",
       "4                           itelligence AG   \n",
       "\n",
       "                                            Location  \\\n",
       "0                                             Berlin   \n",
       "1                                             Berlin   \n",
       "2  Berlin, Bonn, Frankfurt, Hamburg, Leipzig, Mün...   \n",
       "3  Berlin, Bonn, Frankfurt, Hamburg, Leipzig, Mün...   \n",
       "4  Berlin, Bielefeld, Dortmund, Göttingen, Heidel...   \n",
       "\n",
       "                                         Description  \n",
       "0  Unser Bewerbungsprozess läuft standardisiert i...  \n",
       "1  4flow * Berlin * Feste Anstellung * Vollzeit -...  \n",
       "2  Du modellierst Datenbanken basierend auf unter...  \n",
       "3  Modellierung von technischen Datenbankmodellen...  \n",
       "4  Als Teil der NTT DATA Gruppe sind wir auf wert...  "
      ]
     },
     "execution_count": 9,
     "metadata": {},
     "output_type": "execute_result"
    }
   ],
   "source": [
    "import pandas as pd\n",
    "data = {'Jobs':jobs, 'Company':company, 'Location':location, 'Description':description}\n",
    "df = pd.DataFrame(data)\n",
    "df.head()"
   ]
  },
  {
   "cell_type": "code",
   "execution_count": 10,
   "metadata": {},
   "outputs": [],
   "source": [
    "df.to_csv('df.csv')"
   ]
  },
  {
   "cell_type": "markdown",
   "metadata": {},
   "source": [
    "文中若有錯誤還望不吝指正，感激不盡。\n",
    "Please let me know if there’s any mistake in this article. Thanks for reading.\n",
    "\n",
    "Reference 參考資料：\n",
    "\n",
    "[1] [Tutorial: Python Web Scraping Using BeautifulSoup](https://www.dataquest.io/blog/web-scraping-tutorial-python/)\n",
    "\n",
    "[2] [Stepstone](https://www.stepstone.de/5/job-search-simple.html?stf=freeText&ns=1&companyid=0&sourceofthesearchfield=resultlistpage%3Ageneral&qs=%5B%5D&ke=Junior%20Data%20Scientist&ws=Berlin&ra=10&suid=b830ebdc-e1ed-43cf-931b-006b0ad341c5&li=100&of=0&action=per_page_changed)\n"
   ]
  }
 ],
 "metadata": {
  "kernelspec": {
   "display_name": "Python 3",
   "language": "python",
   "name": "python3"
  },
  "language_info": {
   "codemirror_mode": {
    "name": "ipython",
    "version": 3
   },
   "file_extension": ".py",
   "mimetype": "text/x-python",
   "name": "python",
   "nbconvert_exporter": "python",
   "pygments_lexer": "ipython3",
   "version": "3.7.3"
  }
 },
 "nbformat": 4,
 "nbformat_minor": 2
}
