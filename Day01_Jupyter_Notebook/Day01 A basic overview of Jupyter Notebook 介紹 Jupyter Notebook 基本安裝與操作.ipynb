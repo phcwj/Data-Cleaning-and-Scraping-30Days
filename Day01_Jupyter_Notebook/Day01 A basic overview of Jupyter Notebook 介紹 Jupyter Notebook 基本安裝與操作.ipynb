{
 "cells": [
  {
   "cell_type": "markdown",
   "metadata": {},
   "source": [
    "# Day01 Jupyter Notebook 介紹Jupyter Notebook基本安裝與操作\n",
    "\n",
    "此篇參考並縮寫幾個覺得寫得很詳細完整的教學，文內附上連結與出處。\n",
    "\n",
    "## Brief Introduction 簡介\n",
    "\n",
    "Jupyter Notebook是一個介於編輯器及IDE之間的應用環境，能以網頁形式，讓使用者在瀏覽器中以互動式計算的方式，撰寫及執行程式碼。加上容易呈現資料視覺化的執行、易於分享等諸多優點，許多資料分析、機器學習的討論都會以Jupyter Notebook的形式呈現。\n",
    "\n",
    "Jupyter Notebook is kind of an inbetween of a text editor and IDE. It is web-based and let users write and run codes easily with an intuitive way with it’s interactive computing system and the ability to instantly show results. Furthermore, it’s also super easy to visualize data and to share. With all these merits mentioned above and many others, many people in the field of Data Science and Machine Learning use it to share thoughts and communicate.\n",
    "\n",
    "## Installation 安裝\n",
    "\n",
    "安裝Jupyter Notebook步驟：\n",
    "1. 先安裝Python(Python3.3及更高版本或Python2.7)\n",
    "2. 選擇使用Anaconda安裝或使用pip安裝\n",
    "官方強烈建議使用Anaconda安裝，主要原因是Anaconda包含許多資料科學所需要用到的套件，已有大師寫過詳盡鉅細靡遺的安裝教程，深感難以超越，附上[傳送門](https://medium.com/python4u/anaconda%E4%BB%8B%E7%B4%B9%E5%8F%8A%E5%AE%89%E8%A3%9D%E6%95%99%E5%AD%B8-f7dae6454ab6)。\n",
    "\n",
    "Steps of installing Jupyter Notebook:\n",
    "1. First, you’ll need to install Python (Python2.7 / 3.3 or above).\n",
    "2. Installing using Anaconda (recommended, because it contains many needed packages for data analysis) or pip install (slightly different depends on which version of Python you are using). There are many existed Anaconda installation tutorials online so no need to write another. \n",
    "\n",
    "## Basics 基本操作\n",
    "\n",
    "安裝完成後，就可以從Windows開始選單中點選開啟Jupyter Notebook。\n",
    "After installing Anaconda, now you can start Jupyter Notebook in Windows from Start.\n"
   ]
  },
  {
   "cell_type": "markdown",
   "metadata": {},
   "source": [
    "![title](0101.png)"
   ]
  },
  {
   "cell_type": "markdown",
   "metadata": {},
   "source": [
    "運行介面如下，點選New並選擇Python 3開始一個新的檔案。\n",
    "The interface is as below, click New and choose Python 3 to start a new file."
   ]
  },
  {
   "cell_type": "markdown",
   "metadata": {},
   "source": [
    "![title](0102.png)"
   ]
  },
  {
   "cell_type": "markdown",
   "metadata": {},
   "source": [
    "## Jupyter Notebook的編輯介面主要有下面四部分：\n",
    "File Name 檔名(點擊即可重新命名)、Menu 主選單、Toolbar 工具列、Cell 編輯單元。工具列右側有一個下拉選單能選擇目前要增加的Cell模式，介紹常用兩種：\n",
    "1. Code Cell 用以撰寫並執行程式碼，並在下方呈現其執行結果。\n",
    "2. Markdown Cell 則是可以放一些文字、圖片、表格等，[傳送門](https://www.youtube.com/watch?v=-F4WS8o-G2A)。\n",
    "\n",
    "\n",
    "There are 4 main sections in Jupyter Notebook, File Name (click on it to rename), Menu, Toolbar, and Cell. On the right side of the toolbar, there is a drop down menu to change the mode of cell you’re now adding. Two frequently used are:\n",
    "1. Code Cell: contains code to be executed in the kernel and displays its output below.\n",
    "2. Markdown Cell: contains text, images, tables, calculas, and [many more](https://www.youtube.com/watch?v=-F4WS8o-G2A).\n"
   ]
  },
  {
   "cell_type": "markdown",
   "metadata": {},
   "source": [
    "![title](0103.png)"
   ]
  },
  {
   "cell_type": "markdown",
   "metadata": {},
   "source": [
    "### 各功能說明如圖所示：Functions of buttons:"
   ]
  },
  {
   "cell_type": "markdown",
   "metadata": {},
   "source": [
    "![title](0104.png)"
   ]
  },
  {
   "cell_type": "markdown",
   "metadata": {},
   "source": [
    "### 命令模式(如上圖藍色框框)、編輯模式(如下圖綠色框框)\n",
    "### Command Mode (shown as above in blue square), Edit Mode (shown as below in green square)"
   ]
  },
  {
   "cell_type": "markdown",
   "metadata": {},
   "source": [
    "![title](0105.png)"
   ]
  },
  {
   "cell_type": "markdown",
   "metadata": {},
   "source": [
    "## Executing 執行程式碼\n",
    "\n",
    "Cell選單下拉會看見不同執行方式，執行前可以稍微注意一下目前選定的是哪個Cell。個人習慣使用(Ctrl + Enter)執行當前Cell並進入命令模式，(Alt + Enter)執行所有當前Cell並在下方新增一個Cell。\n",
    "\n",
    "Under the drop down menu of Cell, there are different ways to run Cells. Better check you are selecting the cell that you want to run before doing it. Personally I prefer to use hot keys - Ctrl+Enter to run the selected cell and enter command mode; Alt+Enter to run the current cell and inserts a new one below.\n"
   ]
  },
  {
   "cell_type": "markdown",
   "metadata": {},
   "source": [
    "![title](0106.png)"
   ]
  },
  {
   "cell_type": "markdown",
   "metadata": {},
   "source": [
    "附上圖片來源、介面完整介紹以及其他操作解說[傳送門](https://medium.com/python4u/jupyter-notebook%E5%AE%8C%E6%95%B4%E4%BB%8B%E7%B4%B9%E5%8F%8A%E5%AE%89%E8%A3%9D%E8%AA%AA%E6%98%8E-b8fcadba15f)。\n",
    "\n",
    "題外話，在查找資料時才知道原來Jupyter Notebook的名子是結合其支持的三種核心程式語言Julia、Python和R。也還蠻有趣的XD\n",
    "\n",
    "Just found out that the name of Jupyter Notebook comes from the three main languages it supports - Julia, Python, and R, while looking up information for this article. That’s pretty cool to know, I actually learned something LOL.\n",
    "\n",
    "文中若有錯誤還望不吝指正，感激不盡。\n",
    "\n",
    "Please let me know if there’s any mistake in this article. Thanks for reading.\n",
    "\n",
    "Reference 參考資料：\n",
    "\n",
    "[1] [Jupyter Notebook介紹](https://medium.com/python4u/jupyter-notebook%E5%AE%8C%E6%95%B4%E4%BB%8B%E7%B4%B9%E5%8F%8A%E5%AE%89%E8%A3%9D%E8%AA%AA%E6%98%8E-b8fcadba15f)\n",
    "\n",
    "[2] [資料分析&機器學習第1.2講：Jupyter Notebook介紹](https://medium.com/jameslearningnote/%E8%B3%87%E6%96%99%E5%88%86%E6%9E%90-%E6%A9%9F%E5%99%A8%E5%AD%B8%E7%BF%92-%E7%AC%AC1-2%E8%AC%9B-jupyter-notebook%E4%BB%8B%E7%B4%B9-705f023e3720)\n",
    "\n",
    "[3] [Jupyter Notebook for Beginners: A Tutorial](https://www.dataquest.io/blog/jupyter-notebook-tutorial/)\n",
    "\n",
    "[4] [Jupyter Notebook介绍、安装及使用教程](https://zhuanlan.zhihu.com/p/33105153)\n",
    "\n",
    "[5] [Anaconda介紹及安裝教學](https://medium.com/python4u/anaconda%E4%BB%8B%E7%B4%B9%E5%8F%8A%E5%AE%89%E8%A3%9D%E6%95%99%E5%AD%B8-f7dae6454ab6)\n",
    "\n",
    "[6] [圖片來源](https://medium.com/python4u/jupyter-notebook%E5%AE%8C%E6%95%B4%E4%BB%8B%E7%B4%B9%E5%8F%8A%E5%AE%89%E8%A3%9D%E8%AA%AA%E6%98%8E-b8fcadba15f)\n",
    "\n",
    "[7] [Markdown & LaTeX - Jupyter Tutorial (IPython 3)](https://www.youtube.com/watch?v=-F4WS8o-G2A)\n",
    "\n",
    "[8] [The Jupyter Notebook](https://jupyter-notebook.readthedocs.io/en/stable/index.html)\n",
    "\n",
    "[9] [用 Markdown 做筆記](http://moocs.nccu.edu.tw/media/17832)\n"
   ]
  }
 ],
 "metadata": {
  "kernelspec": {
   "display_name": "Python 3",
   "language": "python",
   "name": "python3"
  },
  "language_info": {
   "codemirror_mode": {
    "name": "ipython",
    "version": 3
   },
   "file_extension": ".py",
   "mimetype": "text/x-python",
   "name": "python",
   "nbconvert_exporter": "python",
   "pygments_lexer": "ipython3",
   "version": "3.7.3"
  }
 },
 "nbformat": 4,
 "nbformat_minor": 2
}
