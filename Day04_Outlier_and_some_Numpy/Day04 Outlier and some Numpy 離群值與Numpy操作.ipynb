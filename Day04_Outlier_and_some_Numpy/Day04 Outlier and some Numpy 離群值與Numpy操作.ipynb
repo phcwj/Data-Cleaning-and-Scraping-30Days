{
 "cells": [
  {
   "cell_type": "markdown",
   "metadata": {},
   "source": [
    "# Outlier and some Numpy 離群值與Numpy操作\n",
    "\n",
    "在蒐集資料的過程中，可能會因測量方法、人為疏失或實驗誤差等，導致所蒐集到的資料中出現個別值極度異於其它資料的值，即為離群值(Outlier)；離群值可能導致分析結果難以解釋，因此需要找出這些離群值，再與具有專業領域知識的人討論造成這些離群值的原因，個別做相對應的處理，以利後續進行統計分析進行。\n",
    "\n",
    "When collecting data, we might end up getting some outliers - the value that are really different from rest of the value, causing by the measuring method we use, human error or sometimes some experimental error. Outliers could be hard to explain in the analysis results, thus, we need to find out these outliers and cooperate with people with field knowledge, in order to figure out what is the cause of every single outlier and deal with them using proper methods.\n",
    "\n",
    "### 離群值出現的可能原因：\n",
    "1. 對未知值隨意填補(約定俗成的代入)，如年齡填-1或999，電話填0900-123-456。\n",
    "2. 可能的錯誤紀錄、筆誤、系統性錯誤等，如某書在某筆訂單的銷售量為1,000本。\n",
    "\n",
    "### 檢查離群值\n",
    "可以針對資料繪圖(如直方圖、盒圖、分布圖等)，或透過檢查數值範圍(五值、平均數及標準差等) 來找出離群值，並要盡可能確認每一個欄位的意義，判斷離群值出現的原因。\n",
    "\n",
    "### Outliers may exist due to:\n",
    "1. Filling in unknown values, ex: age = -1 or 999, phone number = 0900-123-156.\n",
    "2. Clerical error, systematic error or other possible mistakes, ex: 1,000 same books in one order.\n",
    "\n",
    "### The ways to check if there's outliers:\n",
    "We could plot out the data (such as box plots, scatter plots, histograms), or look up the statistical quantity (5 values, mean, standard deviation, etc) to find out outliers. We need to try our very best to understand what every column's about, and figure out the reason why there are outliers. \n",
    "\n",
    "### 處理離群值\n",
    "出現離群值時，要小心處理，結合專業知識和統計學方法。先認真檢查原始數據，看能否從專業角度合理的解釋，如果數據存在邏輯錯誤而原始記錄又確實如此，並無法找該觀察對象核實資料，則只能選擇將觀測值刪除。如果數據間無明顯的邏輯錯誤，則可於離群值刪除前後各做一次統計分析，若前後結果不矛盾，該觀測值可予以保留。對於離群值，便可依上述情況，針對情況因應，常見有三種方式：捨棄欄位、取代補值、或採取捨棄整欄不使用。若判斷後決定取代填補離群值，則視情況以中位數、最大最小值或N/A等值取代，常用者以及函數整理：\n",
    "\n",
    "### Dealing with outliers\n",
    "We need to deal with outliers carefully, considering both the field knowledge and statistics. Have a thorough look over the data, and see if we could explain the outliers using field knowledge. If no, then we might have to give up the outlier, sometimes maybe even end up giving up the whole column. On the other hand, if the outliers do not seem too weird comparing to the rest of the data, we could try to analyse the data with and without the outliers to see the difference. So it actually really depends on the situation, normally, there are three ways to deal with outliers: remove the outliers, remove the whole column, or replace the outliers. The most commonly used values to replace outliers and the functions are as below:\n",
    "\n",
    "### 先產生一些隨機數裝到清單中。\n",
    "First, generate some random values into a list."
   ]
  },
  {
   "cell_type": "code",
   "execution_count": 1,
   "metadata": {},
   "outputs": [
    {
     "name": "stdout",
     "output_type": "stream",
     "text": [
      "[7, 9, 9, 10, 6, 2, 1, 1, 6, 1, 0, 1, 9, 1, 10, 0, 3, 6, 1, 6]\n"
     ]
    }
   ],
   "source": [
    "# 載入所需模塊 import packages\n",
    "import random \n",
    "import numpy as np # 通常載入Numpy後會簡寫成np方便使用 import and abbreviate numpy as mp\n",
    "from scipy import stats\n",
    "\n",
    "# 生成一清單裝著20個指定範圍内的整數，指定兩數值包含且後數必須大於前數。\n",
    "# create a list that contains 20 integers in 0 to 10.\n",
    "arr = [random.randint(0,10) for i in range(20)]\n",
    "print(arr)"
   ]
  },
  {
   "cell_type": "markdown",
   "metadata": {},
   "source": [
    "## 中位數 Median\n",
    "通過把所有觀察值高低排序後找出正中間的一個(如果有偶數個數，則為最中間兩數相加再除2)。\n",
    "\n",
    "The value separating the higher half from the lower half (if the numbers of the data is even, the median will be adding up the two numbers in the middle and divide it by two)."
   ]
  },
  {
   "cell_type": "code",
   "execution_count": 2,
   "metadata": {},
   "outputs": [
    {
     "data": {
      "text/plain": [
       "4.5"
      ]
     },
     "execution_count": 2,
     "metadata": {},
     "output_type": "execute_result"
    }
   ],
   "source": [
    "np.median(arr)"
   ]
  },
  {
   "cell_type": "markdown",
   "metadata": {},
   "source": [
    "## 分位數 Quantile\n",
    "即把所有數值由小到大分成等份，q為用以指定介於(0, 1)之間百分位值。\n",
    "\n",
    "Cut points dividing the range of a probability distribution into continuous intervals with equal probabilities. The parameter 'q' is a value between (0, 1) to specify the percentage."
   ]
  },
  {
   "cell_type": "code",
   "execution_count": 3,
   "metadata": {},
   "outputs": [
    {
     "name": "stdout",
     "output_type": "stream",
     "text": [
      "最小值為 Minimum： 0\n",
      "較小四分位數為 Q1： 1.0\n",
      "中位數為 Q2： 4.5\n",
      "較大四分位數為 Q3： 7.5\n",
      "最大值為 Maximum： 10\n"
     ]
    }
   ],
   "source": [
    "print('最小值為 Minimum：',np.quantile(arr, q=0))\n",
    "print('較小四分位數為 Q1：', np.quantile(arr, q=0.25))\n",
    "print('中位數為 Q2：', np.quantile(arr, q=0.5))\n",
    "print('較大四分位數為 Q3：', np.quantile(arr, q=0.75))\n",
    "print('最大值為 Maximum：', np.quantile(arr, q=1))"
   ]
  },
  {
   "cell_type": "markdown",
   "metadata": {},
   "source": [
    "## 眾數 Mode\n",
    "一組數據中出現次數最多的數據值。輸出結果包含眾數以及出現次數。 \n",
    "\n",
    "The value that occurs the most in the data. Output both the mode and the counts of the mode.\n"
   ]
  },
  {
   "cell_type": "code",
   "execution_count": 4,
   "metadata": {},
   "outputs": [
    {
     "data": {
      "text/plain": [
       "ModeResult(mode=array([1]), count=array([6]))"
      ]
     },
     "execution_count": 4,
     "metadata": {},
     "output_type": "execute_result"
    }
   ],
   "source": [
    "stats.mode(arr)"
   ]
  },
  {
   "cell_type": "markdown",
   "metadata": {},
   "source": [
    "## 平均數 Mean\n",
    "一組數或量相加總再除以該組數的個數。\n",
    "Add up the values in data and divided by numbers of data.\n"
   ]
  },
  {
   "cell_type": "code",
   "execution_count": 5,
   "metadata": {},
   "outputs": [
    {
     "data": {
      "text/plain": [
       "4.45"
      ]
     },
     "execution_count": 5,
     "metadata": {},
     "output_type": "execute_result"
    }
   ],
   "source": [
    "np.mean(arr)"
   ]
  },
  {
   "cell_type": "markdown",
   "metadata": {},
   "source": [
    "文中若有錯誤還望不吝指正，感激不盡。\n",
    "Please let me know if there’s any mistake in this article. Thanks for reading.\n",
    "\n",
    "Reference 參考資料：\n",
    "\n",
    "[1] 第二屆機器學習百日馬拉松內容\n",
    "\n",
    "[2] [離群值](https://www.itsfun.com.tw/%E9%9B%A2%E7%BE%A4%E5%80%BC/wiki-0419091-7435081)\n",
    "\n",
    "[3] [離群值的檢測](http://highscope.ch.ntu.edu.tw/wordpress/?p=73655)\n"
   ]
  }
 ],
 "metadata": {
  "kernelspec": {
   "display_name": "Python 3",
   "language": "python",
   "name": "python3"
  },
  "language_info": {
   "codemirror_mode": {
    "name": "ipython",
    "version": 3
   },
   "file_extension": ".py",
   "mimetype": "text/x-python",
   "name": "python",
   "nbconvert_exporter": "python",
   "pygments_lexer": "ipython3",
   "version": "3.7.3"
  }
 },
 "nbformat": 4,
 "nbformat_minor": 2
}
