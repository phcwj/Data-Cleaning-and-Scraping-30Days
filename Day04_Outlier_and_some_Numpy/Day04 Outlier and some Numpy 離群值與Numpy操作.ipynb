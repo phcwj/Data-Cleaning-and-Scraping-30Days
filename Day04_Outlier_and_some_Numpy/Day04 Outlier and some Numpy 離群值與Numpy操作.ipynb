{
 "cells": [
  {
   "cell_type": "markdown",
   "metadata": {},
   "source": [
    "# Outlier and some Numpy 離群值與Numpy操作\n",
    "\n",
    "先產生一些隨機數。"
   ]
  },
  {
   "cell_type": "code",
   "execution_count": 1,
   "metadata": {},
   "outputs": [
    {
     "name": "stdout",
     "output_type": "stream",
     "text": [
      "[7, 9, 9, 10, 6, 2, 1, 1, 6, 1, 0, 1, 9, 1, 10, 0, 3, 6, 1, 6]\n"
     ]
    }
   ],
   "source": [
    "# 載入所需模塊 import packages\n",
    "import random \n",
    "import numpy as np # 通常載入Numpy後會簡寫成np方便使用 import and abbreviate numpy as mp\n",
    "from scipy import stats\n",
    "\n",
    "# 生成一清單裝著20個指定範圍内的整數，指定兩數值包含且後數必須大於前數。\n",
    "# create a list that contains 20 integers in 0 to 10.\n",
    "arr = [random.randint(0,10) for i in range(20)]\n",
    "print(arr)"
   ]
  },
  {
   "cell_type": "markdown",
   "metadata": {},
   "source": [
    "## 中位數 Median\n",
    "通過把所有觀察值高低排序後找出正中間的一個(如果有偶數個數，則為最中間兩數相加再除2)。\n",
    "\n",
    "The value separating the higher half from the lower half (if the numbers of the data is even, the median will be adding up the two numbers in the middle and divide it by two)."
   ]
  },
  {
   "cell_type": "code",
   "execution_count": 2,
   "metadata": {},
   "outputs": [
    {
     "data": {
      "text/plain": [
       "4.5"
      ]
     },
     "execution_count": 2,
     "metadata": {},
     "output_type": "execute_result"
    }
   ],
   "source": [
    "np.median(arr)"
   ]
  },
  {
   "cell_type": "markdown",
   "metadata": {},
   "source": [
    "## 分位數 Quantile\n",
    "即把所有數值由小到大分成等份，q為用以指定介於(0, 1)之間百分位值。\n",
    "\n",
    "Cut points dividing the range of a probability distribution into continuous intervals with equal probabilities. The parameter 'q' is a value between (0, 1) to specify the percentage."
   ]
  },
  {
   "cell_type": "code",
   "execution_count": 3,
   "metadata": {},
   "outputs": [
    {
     "name": "stdout",
     "output_type": "stream",
     "text": [
      "最小值為 Minimum： 0\n",
      "較小四分位數為 Q1： 1.0\n",
      "中位數為 Q2： 4.5\n",
      "較大四分位數為 Q3： 7.5\n",
      "最大值為 Maximum： 10\n"
     ]
    }
   ],
   "source": [
    "print('最小值為 Minimum：',np.quantile(arr, q=0))\n",
    "print('較小四分位數為 Q1：', np.quantile(arr, q=0.25))\n",
    "print('中位數為 Q2：', np.quantile(arr, q=0.5))\n",
    "print('較大四分位數為 Q3：', np.quantile(arr, q=0.75))\n",
    "print('最大值為 Maximum：', np.quantile(arr, q=1))"
   ]
  },
  {
   "cell_type": "markdown",
   "metadata": {},
   "source": [
    "## 眾數 Mode\n",
    "一組數據中出現次數最多的數據值。輸出結果包含眾數以及出現次數。 \n",
    "\n",
    "The value that occurs the most in the data. Output both the mode and the counts of the mode.\n"
   ]
  },
  {
   "cell_type": "code",
   "execution_count": 4,
   "metadata": {},
   "outputs": [
    {
     "data": {
      "text/plain": [
       "ModeResult(mode=array([1]), count=array([6]))"
      ]
     },
     "execution_count": 4,
     "metadata": {},
     "output_type": "execute_result"
    }
   ],
   "source": [
    "stats.mode(arr)"
   ]
  },
  {
   "cell_type": "markdown",
   "metadata": {},
   "source": [
    "## 平均數 Mean\n",
    "一組數或量相加總再除以該組數的個數。\n",
    "Add up the values in data and divided by numbers of data.\n"
   ]
  },
  {
   "cell_type": "code",
   "execution_count": 5,
   "metadata": {},
   "outputs": [
    {
     "data": {
      "text/plain": [
       "4.45"
      ]
     },
     "execution_count": 5,
     "metadata": {},
     "output_type": "execute_result"
    }
   ],
   "source": [
    "np.mean(arr)"
   ]
  },
  {
   "cell_type": "code",
   "execution_count": null,
   "metadata": {},
   "outputs": [],
   "source": []
  }
 ],
 "metadata": {
  "kernelspec": {
   "display_name": "Python 3",
   "language": "python",
   "name": "python3"
  },
  "language_info": {
   "codemirror_mode": {
    "name": "ipython",
    "version": 3
   },
   "file_extension": ".py",
   "mimetype": "text/x-python",
   "name": "python",
   "nbconvert_exporter": "python",
   "pygments_lexer": "ipython3",
   "version": "3.7.3"
  }
 },
 "nbformat": 4,
 "nbformat_minor": 2
}
