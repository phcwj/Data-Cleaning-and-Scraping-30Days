{
 "cells": [
  {
   "cell_type": "markdown",
   "metadata": {},
   "source": [
    "# Day13 Converting Continuous Variables into Discrete Values 連續型變數離散化\n",
    "\n",
    "## 為什麼要把連續型變數離散化 \n",
    "### What are the reasons of converting continuous variables into discrete values?\n",
    "離散化是將多個連續型數值分箱成較少組別，進行離散化的主要原因有以下幾點：\n",
    "1. 簡化模型 - 分箱降低了變數數量、可以加快疊代速度且較方便儲存。\n",
    "2. 增加魯棒性 - 意即減低了極端值與異常值造成分析整體資料的影響程度。ex: 若將年齡特徵50歲以上年齡定義為1，其餘為0，一筆年齡為200的異常值產生的干擾較以原資料直接進行分析小。\n",
    "3. 配合模型需要 - 像決策樹、貝葉斯等模型需要使用離散特徵。\n",
    "4. 引入非線性 - 讓模型具有較佳表達能力。\n",
    "\n",
    "We convert continuous variables into discrete values by binning them into groups to:\n",
    "1. Simplify the model - binning decrease the amount of variables. This could reduce the epoch time and storage space.\n",
    "2. Enhance robustness - decrease the effects caused by extreme values and outliers. ex: binning age above 50 as 1, otherwise 0. The interference of an outlier value 200 would be smaller.\n",
    "3. Fit models - some models like decision trees and Bayes classifiers need the variable to be discrete.\n",
    "4. Increasing non-linearity - non-linear methods offered better overall feature selection performance than linear methods in all usage conditions.\n",
    "\n",
    "## 主要的方法 Main ways to convert:\n",
    "1. 等寬劃分 - 依相同寬度將資料分組，每份的間距相等。ex: 每10歲分一組。\n",
    "2. 等頻劃分 - 將資料均勻分成幾等份，每份的觀察點數相同。ex: 分為10組。\n",
    "3. 聚類劃分 - 使用聚類演算法將資料聚類劃分。\n",
    "\n",
    "\n",
    "1. Binning by same deviation.\n",
    "2. Binning by numbers of data in a bin.\n",
    "3. Cluster data then bin.\n",
    "\n",
    "## 範例 Example\n",
    "'('表示不包含、']'表示包含。<br>\n",
    "'(' are included, ']' are not included."
   ]
  },
  {
   "cell_type": "code",
   "execution_count": 1,
   "metadata": {},
   "outputs": [],
   "source": [
    "# 載入套件 import packages\n",
    "import pandas as pd\n",
    "\n",
    "# 創建一些資料 create some data\n",
    "ages = pd.DataFrame({\"age\": [18, 22, 25, 27, 7, 21, 23, 37, 30, 61, 45, 13, 11, 5, 2, 41, 9, 18, 80, 100]})"
   ]
  },
  {
   "cell_type": "markdown",
   "metadata": {},
   "source": [
    "### 等寬劃分 Binning by same deviation."
   ]
  },
  {
   "cell_type": "code",
   "execution_count": 2,
   "metadata": {},
   "outputs": [
    {
     "name": "stdout",
     "output_type": "stream",
     "text": [
      "0     (1.902, 21.6]\n",
      "1      (21.6, 41.2]\n",
      "2      (21.6, 41.2]\n",
      "3      (21.6, 41.2]\n",
      "4     (1.902, 21.6]\n",
      "5     (1.902, 21.6]\n",
      "6      (21.6, 41.2]\n",
      "7      (21.6, 41.2]\n",
      "8      (21.6, 41.2]\n",
      "9      (60.8, 80.4]\n",
      "10     (41.2, 60.8]\n",
      "11    (1.902, 21.6]\n",
      "12    (1.902, 21.6]\n",
      "13    (1.902, 21.6]\n",
      "14    (1.902, 21.6]\n",
      "15     (21.6, 41.2]\n",
      "16    (1.902, 21.6]\n",
      "17    (1.902, 21.6]\n",
      "18     (60.8, 80.4]\n",
      "19    (80.4, 100.0]\n",
      "Name: equal_width, dtype: category\n",
      "Categories (5, interval[float64]): [(1.902, 21.6] < (21.6, 41.2] < (41.2, 60.8] < (60.8, 80.4] < (80.4, 100.0]]\n"
     ]
    }
   ],
   "source": [
    "# 新增欄位對年齡做等寬劃分 create new column with the same width of age\n",
    "ages[\"equal_width\"] = pd.cut(ages[\"age\"], 5)\n",
    "print(ages[\"equal_width\"])"
   ]
  },
  {
   "cell_type": "code",
   "execution_count": 3,
   "metadata": {},
   "outputs": [
    {
     "data": {
      "text/plain": [
       "(1.902, 21.6]    9\n",
       "(21.6, 41.2]     7\n",
       "(60.8, 80.4]     2\n",
       "(80.4, 100.0]    1\n",
       "(41.2, 60.8]     1\n",
       "Name: equal_width, dtype: int64"
      ]
     },
     "execution_count": 3,
     "metadata": {},
     "output_type": "execute_result"
    }
   ],
   "source": [
    "# 觀察等寬劃分下各出現次數 count the amount of each bin\n",
    "ages[\"equal_width\"].value_counts() # 每個bin的範圍大小是一樣的 the range of each bin is the same"
   ]
  },
  {
   "cell_type": "markdown",
   "metadata": {},
   "source": [
    "### 等頻劃分 Binning by numbers of data in a bin."
   ]
  },
  {
   "cell_type": "code",
   "execution_count": 4,
   "metadata": {},
   "outputs": [
    {
     "name": "stdout",
     "output_type": "stream",
     "text": [
      "0      (10.6, 19.8]\n",
      "1      (19.8, 25.8]\n",
      "2      (19.8, 25.8]\n",
      "3      (25.8, 41.8]\n",
      "4     (1.999, 10.6]\n",
      "5      (19.8, 25.8]\n",
      "6      (19.8, 25.8]\n",
      "7      (25.8, 41.8]\n",
      "8      (25.8, 41.8]\n",
      "9     (41.8, 100.0]\n",
      "10    (41.8, 100.0]\n",
      "11     (10.6, 19.8]\n",
      "12     (10.6, 19.8]\n",
      "13    (1.999, 10.6]\n",
      "14    (1.999, 10.6]\n",
      "15     (25.8, 41.8]\n",
      "16    (1.999, 10.6]\n",
      "17     (10.6, 19.8]\n",
      "18    (41.8, 100.0]\n",
      "19    (41.8, 100.0]\n",
      "Name: equal_freq, dtype: category\n",
      "Categories (5, interval[float64]): [(1.999, 10.6] < (10.6, 19.8] < (19.8, 25.8] < (25.8, 41.8] < (41.8, 100.0]]\n"
     ]
    }
   ],
   "source": [
    "# 新增欄位做等頻劃分 create new column with the same amount of data in each bin\n",
    "ages[\"equal_freq\"] = pd.qcut(ages[\"age\"], 5)\n",
    "print(ages[\"equal_freq\"])"
   ]
  },
  {
   "cell_type": "code",
   "execution_count": 5,
   "metadata": {},
   "outputs": [
    {
     "data": {
      "text/plain": [
       "(41.8, 100.0]    4\n",
       "(25.8, 41.8]     4\n",
       "(19.8, 25.8]     4\n",
       "(10.6, 19.8]     4\n",
       "(1.999, 10.6]    4\n",
       "Name: equal_freq, dtype: int64"
      ]
     },
     "execution_count": 5,
     "metadata": {},
     "output_type": "execute_result"
    }
   ],
   "source": [
    "# 觀察等頻劃分下各組距各出現幾次 count \n",
    "ages[\"equal_freq\"].value_counts() # 每個bin的資料筆數是一樣的 each bin contains same amount of data"
   ]
  },
  {
   "cell_type": "markdown",
   "metadata": {},
   "source": [
    "### 新增一個欄位分為 (0, 10], (10, 20], (20, 30], (30, 50], (50, 100] 五組，'(' 表示不包含、']' 表示包含"
   ]
  },
  {
   "cell_type": "code",
   "execution_count": 6,
   "metadata": {},
   "outputs": [
    {
     "name": "stdout",
     "output_type": "stream",
     "text": [
      "0      (10, 20]\n",
      "1      (20, 30]\n",
      "2      (20, 30]\n",
      "3      (20, 30]\n",
      "4       (0, 10]\n",
      "5      (20, 30]\n",
      "6      (20, 30]\n",
      "7      (30, 50]\n",
      "8      (20, 30]\n",
      "9     (50, 100]\n",
      "10     (30, 50]\n",
      "11     (10, 20]\n",
      "12     (10, 20]\n",
      "13      (0, 10]\n",
      "14      (0, 10]\n",
      "15     (30, 50]\n",
      "16      (0, 10]\n",
      "17     (10, 20]\n",
      "18    (50, 100]\n",
      "19    (50, 100]\n",
      "Name: exact_bins, dtype: category\n",
      "Categories (5, interval[int64]): [(0, 10] < (10, 20] < (20, 30] < (30, 50] < (50, 100]]\n"
     ]
    }
   ],
   "source": [
    "ages[\"exact_bins\"] = pd.cut(ages[\"age\"], bins=(0,10,20,30,50,100)) # 具體指定bin的劃分 specify bins\n",
    "print(ages[\"exact_bins\"])"
   ]
  },
  {
   "cell_type": "code",
   "execution_count": 7,
   "metadata": {},
   "outputs": [
    {
     "data": {
      "text/plain": [
       "(0, 10]      4\n",
       "(10, 20]     4\n",
       "(20, 30]     6\n",
       "(30, 50]     3\n",
       "(50, 100]    3\n",
       "Name: exact_bins, dtype: int64"
      ]
     },
     "execution_count": 7,
     "metadata": {},
     "output_type": "execute_result"
    }
   ],
   "source": [
    "# 具體指定bins的劃分 count amount in each specified bin\n",
    "ages[\"exact_bins\"].value_counts().sort_index() # 指定的bins gouped by specified bins"
   ]
  },
  {
   "cell_type": "markdown",
   "metadata": {},
   "source": [
    "文中若有錯誤還望不吝指正，感激不盡。\n",
    "Please let me know if there’s any mistake in this article. Thanks for reading.\n",
    "\n",
    "Reference 參考資料：\n",
    "\n",
    "[1] 第二屆機器學習百日馬拉松內容\n",
    "\n",
    "[2] [Continuous or discrete Variable](https://en.wikipedia.org/wiki/Continuous_or_discrete_variable)\n",
    "\n",
    "[3] [连续特征的离散化](https://www.zhihu.com/question/31989952)\n",
    "\n",
    "[4] [特征离散化](https://mp.weixin.qq.com/s/KF2-ejxxapISaj4bIMaIdw)\n"
   ]
  }
 ],
 "metadata": {
  "kernelspec": {
   "display_name": "Python 3",
   "language": "python",
   "name": "python3"
  },
  "language_info": {
   "codemirror_mode": {
    "name": "ipython",
    "version": 3
   },
   "file_extension": ".py",
   "mimetype": "text/x-python",
   "name": "python",
   "nbconvert_exporter": "python",
   "pygments_lexer": "ipython3",
   "version": "3.7.3"
  }
 },
 "nbformat": 4,
 "nbformat_minor": 2
}
