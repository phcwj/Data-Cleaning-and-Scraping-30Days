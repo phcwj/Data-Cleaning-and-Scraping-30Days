{
 "cells": [
  {
   "cell_type": "markdown",
   "metadata": {},
   "source": [
    "# Day07 Pandas skills: Pandas cheat sheet \n",
    "# Pandas操作：快查表中文化"
   ]
  },
  {
   "cell_type": "markdown",
   "metadata": {},
   "source": [
    "網路上有許多大神整理了各種快查表，本日進度就挑戰把其中一個個人覺得整理的很完善的快查表中文化。其實前兩天文章提到的函數，都可以從這個[快查表](https://pandas.pydata.org/Pandas_Cheat_Sheet.pdf)中查找。有需要的人歡迎下載使用。\n",
    "\n",
    "There are many different existing cheat sheets on the internet. Today's challenge is to translate [this Pandas Cheat Sheet](https://pandas.pydata.org/Pandas_Cheat_Sheet.pdf) into Traditional Chinese. The functions we talked about in the previous two articles could also be found in this cheat sheet."
   ]
  },
  {
   "cell_type": "markdown",
   "metadata": {},
   "source": [
    "![Title](P1.jpg)"
   ]
  },
  {
   "cell_type": "markdown",
   "metadata": {},
   "source": [
    "![Title](P2.jpg)"
   ]
  },
  {
   "cell_type": "code",
   "execution_count": null,
   "metadata": {},
   "outputs": [],
   "source": []
  },
  {
   "cell_type": "code",
   "execution_count": null,
   "metadata": {},
   "outputs": [],
   "source": []
  },
  {
   "cell_type": "code",
   "execution_count": null,
   "metadata": {},
   "outputs": [],
   "source": []
  },
  {
   "cell_type": "code",
   "execution_count": null,
   "metadata": {},
   "outputs": [],
   "source": []
  },
  {
   "cell_type": "code",
   "execution_count": null,
   "metadata": {},
   "outputs": [],
   "source": []
  },
  {
   "cell_type": "code",
   "execution_count": null,
   "metadata": {},
   "outputs": [],
   "source": []
  },
  {
   "cell_type": "code",
   "execution_count": null,
   "metadata": {},
   "outputs": [],
   "source": []
  }
 ],
 "metadata": {
  "kernelspec": {
   "display_name": "Python 3",
   "language": "python",
   "name": "python3"
  },
  "language_info": {
   "codemirror_mode": {
    "name": "ipython",
    "version": 3
   },
   "file_extension": ".py",
   "mimetype": "text/x-python",
   "name": "python",
   "nbconvert_exporter": "python",
   "pygments_lexer": "ipython3",
   "version": "3.7.3"
  }
 },
 "nbformat": 4,
 "nbformat_minor": 2
}
