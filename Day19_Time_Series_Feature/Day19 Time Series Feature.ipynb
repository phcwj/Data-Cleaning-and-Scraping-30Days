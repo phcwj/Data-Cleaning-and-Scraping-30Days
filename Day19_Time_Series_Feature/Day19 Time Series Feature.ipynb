{
 "cells": [
  {
   "cell_type": "markdown",
   "metadata": {},
   "source": [
    "# Day19 Time Series Feature \n",
    "# 時間型特徵\n",
    "\n",
    "### 時間型特徵最常見的處理方式 - 將特徵分解為年-月-日-時-分-秒\n",
    "### The most commonly used way: spliting time series feature into year-month-day-hour-minute-second\n",
    "\n",
    "![Title](1901.JPG)<br>\n",
    "\n",
    "## 週期循環特徵 Time Cycle\n",
    "有時單純切分時間特徵所得到的欄位與目標值關係並不直接，此時我們可以思考目標值是否與一些時間週期有關係(找尋目標值與時間有沒有循環的特性)。這樣的特性可能發生於：\n",
    "1. 年週期 - 季節、溫度、雨量等\n",
    "2. 月週期 - 薪水、繳費等\n",
    "3. 周周期 - 例假日、消費習慣相關\n",
    "4. 日週期 - 生活作息相關\n",
    "\n",
    "Sometimes the columns after splitting up the time series feature still don't have stong relationship with the target values. We can then check if there's some sort of time cycle that make the target value repeat itself. Some possible time cycle could be:\n",
    "1. Annual cycle - season, temperature, rainfall etc.\n",
    "2. Month cycle - recieving salary, paying fees etc.\n",
    "3. Week cycle - weekends, shopping habits etc.\n",
    "4. Day cycle - daily routine etc.\n",
    "\n",
    "![Title](1902.png)\n",
    "\n",
    "前述的週期所需數值都可由時間欄位搭配正弦函數或餘弦函數加以組合：\n",
    "1. 年週期 (ex: 正-冷 / 負-熱) cos((月/12 + 日/360)2π)\n",
    "2. 周週期 (ex: 正-精神飽滿 / 負-疲倦) sin((星期幾/7 + 小時/168)2π)\n",
    "3. 日週期 (ex: 正-精神飽滿 / 負-疲倦) sin((小時/24 + 分/1440 + 秒/86400)2π)\n",
    "\n",
    "Time cycle mentioned above could be achieved by using time series splitted columns with cos or sin functions.\n",
    "1. Annual cycle (ex: positive-cold / negative-hot) cos((month/12 + day/360)2π)\n",
    "2. Week cycle (ex: positive-full of energy / negative-tired) sin((weekday/7 + hour/168)2π)\n",
    "3. Day cycle (ex: positive-full of energy / negative-tired sin((hour/24 + minute/1440 + sec/86400)2π)\n",
    "\n",
    "## 時段特徵 Time frame\n",
    "也可能從時段區間的事件計數推估事件發生的機率，如：網站銷售預測、累計點擊量等。<br>\n",
    "It is also possible to predict the possibility of observing countings of an event in a certain time frame.\n",
    "\n",
    "文中若有錯誤還望不吝指正，感激不盡。\n",
    "Please let me know if there’s any mistake in this article. Thanks for reading.\n",
    "\n",
    "Reference 參考資料：\n",
    "\n",
    "[1] 第二屆機器學習百日馬拉松內容\n",
    "\n",
    "[2] [Time Series Anomaly Detection Algorithms](https://blog.statsbot.co/time-series-anomaly-detection-algorithms-1cef5519aef2)\n"
   ]
  }
 ],
 "metadata": {
  "kernelspec": {
   "display_name": "Python 3",
   "language": "python",
   "name": "python3"
  },
  "language_info": {
   "codemirror_mode": {
    "name": "ipython",
    "version": 3
   },
   "file_extension": ".py",
   "mimetype": "text/x-python",
   "name": "python",
   "nbconvert_exporter": "python",
   "pygments_lexer": "ipython3",
   "version": "3.7.3"
  }
 },
 "nbformat": 4,
 "nbformat_minor": 2
}
