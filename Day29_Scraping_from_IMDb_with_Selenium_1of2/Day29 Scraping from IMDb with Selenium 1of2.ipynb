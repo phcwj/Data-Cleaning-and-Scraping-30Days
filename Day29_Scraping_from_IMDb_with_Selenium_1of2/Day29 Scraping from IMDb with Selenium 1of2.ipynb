{
 "cells": [
  {
   "cell_type": "markdown",
   "metadata": {},
   "source": [
    "# Day29 Scraping from IMDb with Selenium 1/2 \n",
    "# 用Selenium爬取IMDb 1/2\n",
    "\n",
    "先來看電影評分網站IMDb資料長相，抓取需要的資訊存起來，程式碼是參考自這篇[文章](https://medium.com/datainpoint/python-essentials-web-scraping-with-selenium-638175f839ee)。<br>\n",
    "Take a look at how IMDb save the movie info. Get the info we want and save them down. [Code reference](https://medium.com/datainpoint/python-essentials-web-scraping-with-selenium-638175f839ee).\n",
    "![Title](2901.JPG)"
   ]
  },
  {
   "cell_type": "code",
   "execution_count": 1,
   "metadata": {},
   "outputs": [
    {
     "name": "stdout",
     "output_type": "stream",
     "text": [
      "{'Rating': 7.1, 'Released_Date': '8 January 2016 (Taiwan)', 'Genre': ['Comedy', 'Drama'], 'Poster_Link': 'https://m.media-amazon.com/images/M/MV5BMjA4MzAxNTc5OF5BMl5BanBnXkFtZTgwMjgzMDE4OTE@._V1_UX182_CR0,0,182,268_AL_.jpg', 'Cast': ['Kate Winslet', 'Judy Davis', 'Liam Hemsworth', 'Hugo Weaving', 'Julia Blake', 'Shane Bourne', 'Kerry Fox', 'Rebecca Gibney', 'Caroline Goodall', 'Gyton Grantley', 'Tracy Harvey', 'Sacha Horler', 'Shane Jacobson', 'Geneviève Lemon', 'James Mackay']}\n"
     ]
    }
   ],
   "source": [
    "# 載入所需套件 Import the packages\n",
    "from pyquery import PyQuery as pq\n",
    "import pandas as pd\n",
    "\n",
    "def get_movie_info(movie_url):\n",
    "    \"\"\"\n",
    "    從特定電影連結頁面取得資訊 Get movie info from a certain IMDb url\n",
    "    \"\"\"\n",
    "    d = pq(movie_url)\n",
    "    movie_rating = float(d(\"strong span\").text()) # 抓取電影評分\n",
    "    movie_genre = [x.text() for x in d(\".subtext a\").items()] # 抓取電影類型\n",
    "    movie_released_date = movie_genre.pop() # 抓取電影上映日期\n",
    "    movie_poster = d(\".poster img\").attr('src') # 抓取電影海報網址\n",
    "    movie_cast = [x.text() for x in d(\".primary_photo+ td a\").items()] # 抓取電影演員\n",
    "\n",
    "    # 回傳電影資訊 return the movie info\n",
    "    movie_info = {\n",
    "        \"Rating\": movie_rating,\n",
    "        \"Released_Date\": movie_released_date,\n",
    "        \"Genre\": movie_genre,\n",
    "        \"Poster_Link\": movie_poster,\n",
    "        \"Cast\": movie_cast\n",
    "    }\n",
    "    return movie_info\n",
    "\n",
    "# 抓一筆電影資料看看 get the info of a movie to have a look\n",
    "the_dressmaker = get_movie_info(\"https://www.imdb.com/title/tt2910904/\")\n",
    "print(the_dressmaker)"
   ]
  },
  {
   "cell_type": "markdown",
   "metadata": {},
   "source": [
    "![Title](2902.JPG)"
   ]
  },
  {
   "cell_type": "code",
   "execution_count": 2,
   "metadata": {},
   "outputs": [
    {
     "data": {
      "text/html": [
       "<div>\n",
       "<style scoped>\n",
       "    .dataframe tbody tr th:only-of-type {\n",
       "        vertical-align: middle;\n",
       "    }\n",
       "\n",
       "    .dataframe tbody tr th {\n",
       "        vertical-align: top;\n",
       "    }\n",
       "\n",
       "    .dataframe thead th {\n",
       "        text-align: right;\n",
       "    }\n",
       "</style>\n",
       "<table border=\"1\" class=\"dataframe\">\n",
       "  <thead>\n",
       "    <tr style=\"text-align: right;\">\n",
       "      <th></th>\n",
       "      <th>Rating</th>\n",
       "      <th>Released_Date</th>\n",
       "      <th>Genre</th>\n",
       "      <th>Poster_Link</th>\n",
       "      <th>Cast</th>\n",
       "    </tr>\n",
       "  </thead>\n",
       "  <tbody>\n",
       "    <tr>\n",
       "      <td>0</td>\n",
       "      <td>7.1</td>\n",
       "      <td>8 January 2016 (Taiwan)</td>\n",
       "      <td>[Comedy, Drama]</td>\n",
       "      <td>https://m.media-amazon.com/images/M/MV5BMjA4Mz...</td>\n",
       "      <td>[Kate Winslet, Judy Davis, Liam Hemsworth, Hug...</td>\n",
       "    </tr>\n",
       "  </tbody>\n",
       "</table>\n",
       "</div>"
      ],
      "text/plain": [
       "  Rating            Released_Date            Genre  \\\n",
       "0    7.1  8 January 2016 (Taiwan)  [Comedy, Drama]   \n",
       "\n",
       "                                         Poster_Link  \\\n",
       "0  https://m.media-amazon.com/images/M/MV5BMjA4Mz...   \n",
       "\n",
       "                                                Cast  \n",
       "0  [Kate Winslet, Judy Davis, Liam Hemsworth, Hug...  "
      ]
     },
     "execution_count": 2,
     "metadata": {},
     "output_type": "execute_result"
    }
   ],
   "source": [
    "# 存成資料框架看一下 transform the info we get into dataframe\n",
    "df = pd.DataFrame.from_dict(the_dressmaker, orient='index')\n",
    "df.transpose()"
   ]
  },
  {
   "cell_type": "markdown",
   "metadata": {},
   "source": [
    "文中若有錯誤還望不吝指正，感激不盡。\n",
    "Please let me know if there’s any mistake in this article. Thanks for reading.\n",
    "\n",
    "Reference 參考資料：\n",
    "\n",
    "[1] [透過操控瀏覽器擷取網站資料](https://medium.com/datainpoint/python-essentials-web-scraping-with-selenium-638175f839ee)\n",
    "\n",
    "[2] [What version of Chrome do I have?](https://www.whatismybrowser.com/detect/what-version-of-chrome-do-i-have)\n",
    "\n",
    "[3] [ChromeDriver - WebDriver for Chrome](http://chromedriver.chromium.org/downloads)\n",
    "\n",
    "[4] [IMDb](https://www.imdb.com/)\n",
    "\n",
    "[5] [Stack Overflow](https://stackoverflow.com/questions/47148872/webdrivers-executable-may-have-wrong-permissions-please-see-https-sites-goo)\n"
   ]
  }
 ],
 "metadata": {
  "kernelspec": {
   "display_name": "Python 3",
   "language": "python",
   "name": "python3"
  },
  "language_info": {
   "codemirror_mode": {
    "name": "ipython",
    "version": 3
   },
   "file_extension": ".py",
   "mimetype": "text/x-python",
   "name": "python",
   "nbconvert_exporter": "python",
   "pygments_lexer": "ipython3",
   "version": "3.7.3"
  }
 },
 "nbformat": 4,
 "nbformat_minor": 2
}
