{
 "cells": [
  {
   "cell_type": "markdown",
   "metadata": {},
   "source": [
    "# Day26 Stepstone Posting \n",
    "# 達石職缺"
   ]
  },
  {
   "cell_type": "code",
   "execution_count": 1,
   "metadata": {},
   "outputs": [],
   "source": [
    "# 載入所需套件 import the packages we need\n",
    "import pandas as pd \n",
    "import numpy as np \n",
    "import matplotlib.pyplot as plt\n",
    "import seaborn as sns\n",
    "import plotly as py \n",
    "\n",
    "import warnings # 忽略警告訊息 \n",
    "warnings.filterwarnings(\"ignore\") "
   ]
  },
  {
   "cell_type": "code",
   "execution_count": 2,
   "metadata": {},
   "outputs": [
    {
     "name": "stdout",
     "output_type": "stream",
     "text": [
      "<class 'pandas.core.frame.DataFrame'>\n",
      "RangeIndex: 100 entries, 0 to 99\n",
      "Data columns (total 5 columns):\n",
      "Unnamed: 0     100 non-null int64\n",
      "Jobs           100 non-null object\n",
      "Company        100 non-null object\n",
      "Location       100 non-null object\n",
      "Description    100 non-null object\n",
      "dtypes: int64(1), object(4)\n",
      "memory usage: 4.0+ KB\n"
     ]
    },
    {
     "data": {
      "text/html": [
       "<div>\n",
       "<style scoped>\n",
       "    .dataframe tbody tr th:only-of-type {\n",
       "        vertical-align: middle;\n",
       "    }\n",
       "\n",
       "    .dataframe tbody tr th {\n",
       "        vertical-align: top;\n",
       "    }\n",
       "\n",
       "    .dataframe thead th {\n",
       "        text-align: right;\n",
       "    }\n",
       "</style>\n",
       "<table border=\"1\" class=\"dataframe\">\n",
       "  <thead>\n",
       "    <tr style=\"text-align: right;\">\n",
       "      <th></th>\n",
       "      <th>Unnamed: 0</th>\n",
       "      <th>Jobs</th>\n",
       "      <th>Company</th>\n",
       "      <th>Location</th>\n",
       "      <th>Description</th>\n",
       "    </tr>\n",
       "  </thead>\n",
       "  <tbody>\n",
       "    <tr>\n",
       "      <td>0</td>\n",
       "      <td>0</td>\n",
       "      <td>Junior Data Scientist (m/w/d) Medical Devices</td>\n",
       "      <td>Fresenius Medical Care Deutschland GmbH</td>\n",
       "      <td>Berlin</td>\n",
       "      <td>Unser Bewerbungsprozess läuft standardisiert i...</td>\n",
       "    </tr>\n",
       "    <tr>\n",
       "      <td>1</td>\n",
       "      <td>1</td>\n",
       "      <td>(Junior) Data Scientist (m/w/d)</td>\n",
       "      <td>4flow</td>\n",
       "      <td>Berlin</td>\n",
       "      <td>4flow * Berlin * Feste Anstellung * Vollzeit -...</td>\n",
       "    </tr>\n",
       "    <tr>\n",
       "      <td>2</td>\n",
       "      <td>2</td>\n",
       "      <td>Physiker/ Mathematiker/ Naturwissenschaftler a...</td>\n",
       "      <td>Senacor Technologies AG</td>\n",
       "      <td>Berlin, Bonn, Frankfurt, Hamburg, Leipzig, Mün...</td>\n",
       "      <td>Du modellierst Datenbanken basierend auf unter...</td>\n",
       "    </tr>\n",
       "  </tbody>\n",
       "</table>\n",
       "</div>"
      ],
      "text/plain": [
       "   Unnamed: 0                                               Jobs  \\\n",
       "0           0      Junior Data Scientist (m/w/d) Medical Devices   \n",
       "1           1                    (Junior) Data Scientist (m/w/d)   \n",
       "2           2  Physiker/ Mathematiker/ Naturwissenschaftler a...   \n",
       "\n",
       "                                   Company  \\\n",
       "0  Fresenius Medical Care Deutschland GmbH   \n",
       "1                                    4flow   \n",
       "2                  Senacor Technologies AG   \n",
       "\n",
       "                                            Location  \\\n",
       "0                                             Berlin   \n",
       "1                                             Berlin   \n",
       "2  Berlin, Bonn, Frankfurt, Hamburg, Leipzig, Mün...   \n",
       "\n",
       "                                         Description  \n",
       "0  Unser Bewerbungsprozess läuft standardisiert i...  \n",
       "1  4flow * Berlin * Feste Anstellung * Vollzeit -...  \n",
       "2  Du modellierst Datenbanken basierend auf unter...  "
      ]
     },
     "execution_count": 2,
     "metadata": {},
     "output_type": "execute_result"
    }
   ],
   "source": [
    "# 讀入昨天存的檔案來分析 read in the file we created yesterday\n",
    "df = pd.read_csv('df.csv') \n",
    "df.info() # 查看資料細節 the info of data\n",
    "df.head(3) # 叫出前三筆資料看看 print out the top three rows of data"
   ]
  },
  {
   "cell_type": "code",
   "execution_count": 3,
   "metadata": {},
   "outputs": [
    {
     "data": {
      "text/plain": [
       "(array([ 0,  1,  2,  3,  4,  5,  6,  7,  8,  9, 10, 11, 12, 13, 14, 15, 16,\n",
       "        17, 18, 19]), <a list of 20 Text xticklabel objects>)"
      ]
     },
     "execution_count": 3,
     "metadata": {},
     "output_type": "execute_result"
    },
    {
     "data": {
      "image/png": "[encoded data removed]",
      "text/plain": [
       "<Figure size 1296x432 with 1 Axes>"
      ]
     },
     "metadata": {
      "needs_background": "light"
     },
     "output_type": "display_data"
    }
   ],
   "source": [
    "# 把地點分布畫出來，看看這些職缺除了在柏林以外其他地點也有職缺的情形\n",
    "# plot out to see how the locations look like\n",
    "df['Location'] = df.Location.str.replace('Munich', 'München').str.replace(' a. M.', ' ').str.replace('a. M.', ' ').str.replace(' am Main', ' ').str.replace(' a.M.', ' ').str.replace('/M.', ' ').str.replace(' in ', '').str.replace(' in', '').str.replace('Alle', ' ').str.replace(' bei', '').str.replace('oder', '').str.replace('und', '').str.replace('/', ' ').str.replace(',', ' ').str.replace('   ', ' ').str.replace(' /M.', '.a.M.').str.replace('oder', '').str.replace('und', '').str.replace('/', ' ').str.replace(',', ' ').str.replace('  ', ' ').str.replace(' ', ',')\n",
    "df.Location.head(3)\n",
    "all_item_ls = np.concatenate(df.Location.map(lambda am:am.split(',')))\n",
    "items = pd.Series(all_item_ls).value_counts().head(20)\n",
    "plt.figure(figsize=(18 , 6))\n",
    "items.plot(kind='bar')\n",
    "plt.xticks(rotation=45, fontsize=12)"
   ]
  },
  {
   "cell_type": "code",
   "execution_count": 4,
   "metadata": {},
   "outputs": [],
   "source": [
    "# 看看這些職缺簡介都寫了些什麼字\n",
    "# see the word counts of the job posting descriptions\n",
    "df['Description'] = df.Description.str.replace('(', '').str.replace(')', '').str.replace(',', '').str.replace('.', '').str.replace('*', '').str.replace('-', ' ').str.replace('&', '').str.replace('   ', ' ').str.replace('  ', ' ').str.replace(' ', ',')\n",
    "df.Description.head(3)\n",
    "all_words = np.concatenate(df.Description.map(lambda am:am.split(',')))\n",
    "words = pd.Series(all_words).value_counts()"
   ]
  },
  {
   "cell_type": "code",
   "execution_count": 5,
   "metadata": {
    "scrolled": true
   },
   "outputs": [
    {
     "data": {
      "text/plain": [
       "Data          88\n",
       "und           81\n",
       "Berlin        41\n",
       "in            36\n",
       "von           32\n",
       "Vollzeit      29\n",
       "der           28\n",
       "Anstellung    27\n",
       "Feste         27\n",
       "Analytics     25\n",
       "Sie           23\n",
       "die           22\n",
       "Big           22\n",
       "München       20\n",
       "für           19\n",
       "dtype: int64"
      ]
     },
     "execution_count": 5,
     "metadata": {},
     "output_type": "execute_result"
    }
   ],
   "source": [
    "words.head(15)"
   ]
  },
  {
   "cell_type": "code",
   "execution_count": 6,
   "metadata": {
    "scrolled": false
   },
   "outputs": [
    {
     "data": {
      "text/plain": [
       "Supports                   1\n",
       "Governance                 1\n",
       "Modellierungsparadigmen    1\n",
       "komplexer                  1\n",
       "nachhaltiger               1\n",
       "Workflows                  1\n",
       "variety                    1\n",
       "actionable                 1\n",
       "Braunschweig               1\n",
       "technologischen            1\n",
       "dtype: int64"
      ]
     },
     "execution_count": 6,
     "metadata": {},
     "output_type": "execute_result"
    }
   ],
   "source": [
    "words.tail(10)"
   ]
  },
  {
   "cell_type": "code",
   "execution_count": 7,
   "metadata": {},
   "outputs": [],
   "source": [
    "# 看看職缺標題都寫了些什麼字\n",
    "# see the word counts of the job postings\n",
    "df['Jobs'] = df.Jobs.str.replace('(', '').str.replace(')', '').str.replace(',', ' ').str.replace('.', '').str.replace('/', '').str.replace('*', '').str.replace('-', ' ').str.replace('–', ' ').str.replace('&', '').str.replace('   ', ' ').str.replace('  ', ' ').str.replace(' ', ',')\n",
    "df.Jobs.head(3)\n",
    "all_jobs = np.concatenate(df.Jobs.map(lambda am:am.split(',')))\n",
    "jobs = pd.Series(all_jobs).value_counts()"
   ]
  },
  {
   "cell_type": "code",
   "execution_count": 8,
   "metadata": {},
   "outputs": [
    {
     "data": {
      "text/plain": [
       "mwd             71\n",
       "Data            59\n",
       "Business        35\n",
       "Analyst         33\n",
       "Consultant      20\n",
       "Scientist       17\n",
       "Analytics       17\n",
       "Junior          14\n",
       "Intelligence    13\n",
       "Engineer        13\n",
       "wmd             12\n",
       "Big             12\n",
       "Developer       10\n",
       "Senior           9\n",
       "für              8\n",
       "Public           7\n",
       "BI               7\n",
       "Sector           7\n",
       "Management       6\n",
       "und              6\n",
       "mfd              6\n",
       "Architect        6\n",
       "Warehouse        6\n",
       "SAP              5\n",
       "Consulting       5\n",
       "Manager          5\n",
       "Berater          4\n",
       "Science          4\n",
       "Bereich          4\n",
       "Digital          4\n",
       "dtype: int64"
      ]
     },
     "execution_count": 8,
     "metadata": {},
     "output_type": "execute_result"
    }
   ],
   "source": [
    "jobs.head(30)"
   ]
  },
  {
   "cell_type": "markdown",
   "metadata": {},
   "source": [
    "文中若有錯誤還望不吝指正，感激不盡。\n",
    "Please let me know if there’s any mistake in this article. Thanks for reading.\n",
    "\n",
    "Reference 參考資料：\n",
    "\n",
    "[1] [Tutorial: Python Web Scraping Using BeautifulSoup](https://www.dataquest.io/blog/web-scraping-tutorial-python/)\n",
    "\n",
    "[2] [Stepstone](https://www.stepstone.de/5/job-search-simple.html?stf=freeText&ns=1&companyid=0&sourceofthesearchfield=resultlistpage%3Ageneral&qs=%5B%5D&ke=Junior%20Data%20Scientist&ws=Berlin&ra=10&suid=b830ebdc-e1ed-43cf-931b-006b0ad341c5&li=100&of=0&action=per_page_changed)\n"
   ]
  }
 ],
 "metadata": {
  "kernelspec": {
   "display_name": "Python 3",
   "language": "python",
   "name": "python3"
  },
  "language_info": {
   "codemirror_mode": {
    "name": "ipython",
    "version": 3
   },
   "file_extension": ".py",
   "mimetype": "text/x-python",
   "name": "python",
   "nbconvert_exporter": "python",
   "pygments_lexer": "ipython3",
   "version": "3.7.3"
  }
 },
 "nbformat": 4,
 "nbformat_minor": 2
}
